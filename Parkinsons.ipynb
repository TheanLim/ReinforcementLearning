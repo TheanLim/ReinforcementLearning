{
  "nbformat": 4,
  "nbformat_minor": 0,
  "metadata": {
    "colab": {
      "name": "Parkinsons.ipynb",
      "provenance": [],
      "collapsed_sections": [],
      "toc_visible": true,
      "include_colab_link": true
    },
    "kernelspec": {
      "name": "python3",
      "display_name": "Python 3"
    },
    "accelerator": "GPU"
  },
  "cells": [
    {
      "cell_type": "markdown",
      "metadata": {
        "id": "view-in-github",
        "colab_type": "text"
      },
      "source": [
        "<a href=\"https://colab.research.google.com/github/TheanLim/ReinforcementLearning/blob/master/Parkinsons.ipynb\" target=\"_parent\"><img src=\"https://colab.research.google.com/assets/colab-badge.svg\" alt=\"Open In Colab\"/></a>"
      ]
    },
    {
      "cell_type": "markdown",
      "metadata": {
        "id": "WxrOleYgLvay",
        "colab_type": "text"
      },
      "source": [
        "# Load data"
      ]
    },
    {
      "cell_type": "code",
      "metadata": {
        "id": "Y4t546VBLxv6",
        "colab_type": "code",
        "colab": {}
      },
      "source": [
        "import numpy as np\n",
        "import pandas as pd\n",
        "import seaborn as sns\n",
        "import matplotlib.pyplot as plt\n",
        "import graphviz\n",
        "\n",
        "from sklearn import tree\n",
        "from sklearn.linear_model import LogisticRegression\n",
        "from sklearn.preprocessing import StandardScaler\n",
        "from sklearn.metrics import confusion_matrix\n",
        "from sklearn.metrics import mean_squared_error\n",
        "\n",
        "import tensorflow as tf\n",
        "from keras.models import Sequential\n",
        "from keras.layers import  Dense, Dropout\n",
        "\n",
        "# Comment this if the data visualisations doesn't work on your side\n",
        "%matplotlib inline\n",
        "\n",
        "# Set seed\n",
        "np.random.seed(0)\n",
        "\n",
        "url = 'https://raw.githubusercontent.com/TheanLim/ReinforcementLearning/master/data/parkinsons.data'\n",
        "df = pd.read_csv(url)"
      ],
      "execution_count": 0,
      "outputs": []
    },
    {
      "cell_type": "code",
      "metadata": {
        "id": "JoV7BgZCMEnd",
        "colab_type": "code",
        "outputId": "62c35b50-39d8-4176-de4e-95400b5331a1",
        "colab": {
          "base_uri": "https://localhost:8080/",
          "height": 215
        }
      },
      "source": [
        "# Take a look at the first five rows\n",
        "df.head()"
      ],
      "execution_count": 406,
      "outputs": [
        {
          "output_type": "execute_result",
          "data": {
            "text/html": [
              "<div>\n",
              "<style scoped>\n",
              "    .dataframe tbody tr th:only-of-type {\n",
              "        vertical-align: middle;\n",
              "    }\n",
              "\n",
              "    .dataframe tbody tr th {\n",
              "        vertical-align: top;\n",
              "    }\n",
              "\n",
              "    .dataframe thead th {\n",
              "        text-align: right;\n",
              "    }\n",
              "</style>\n",
              "<table border=\"1\" class=\"dataframe\">\n",
              "  <thead>\n",
              "    <tr style=\"text-align: right;\">\n",
              "      <th></th>\n",
              "      <th>name</th>\n",
              "      <th>MDVP:Fo(Hz)</th>\n",
              "      <th>MDVP:Fhi(Hz)</th>\n",
              "      <th>MDVP:Flo(Hz)</th>\n",
              "      <th>MDVP:Jitter(%)</th>\n",
              "      <th>MDVP:Jitter(Abs)</th>\n",
              "      <th>MDVP:RAP</th>\n",
              "      <th>MDVP:PPQ</th>\n",
              "      <th>Jitter:DDP</th>\n",
              "      <th>MDVP:Shimmer</th>\n",
              "      <th>MDVP:Shimmer(dB)</th>\n",
              "      <th>Shimmer:APQ3</th>\n",
              "      <th>Shimmer:APQ5</th>\n",
              "      <th>MDVP:APQ</th>\n",
              "      <th>Shimmer:DDA</th>\n",
              "      <th>NHR</th>\n",
              "      <th>HNR</th>\n",
              "      <th>status</th>\n",
              "      <th>RPDE</th>\n",
              "      <th>DFA</th>\n",
              "      <th>spread1</th>\n",
              "      <th>spread2</th>\n",
              "      <th>D2</th>\n",
              "      <th>PPE</th>\n",
              "    </tr>\n",
              "  </thead>\n",
              "  <tbody>\n",
              "    <tr>\n",
              "      <th>0</th>\n",
              "      <td>phon_R01_S01_1</td>\n",
              "      <td>119.992</td>\n",
              "      <td>157.302</td>\n",
              "      <td>74.997</td>\n",
              "      <td>0.00784</td>\n",
              "      <td>0.00007</td>\n",
              "      <td>0.00370</td>\n",
              "      <td>0.00554</td>\n",
              "      <td>0.01109</td>\n",
              "      <td>0.04374</td>\n",
              "      <td>0.426</td>\n",
              "      <td>0.02182</td>\n",
              "      <td>0.03130</td>\n",
              "      <td>0.02971</td>\n",
              "      <td>0.06545</td>\n",
              "      <td>0.02211</td>\n",
              "      <td>21.033</td>\n",
              "      <td>1</td>\n",
              "      <td>0.414783</td>\n",
              "      <td>0.815285</td>\n",
              "      <td>-4.813031</td>\n",
              "      <td>0.266482</td>\n",
              "      <td>2.301442</td>\n",
              "      <td>0.284654</td>\n",
              "    </tr>\n",
              "    <tr>\n",
              "      <th>1</th>\n",
              "      <td>phon_R01_S01_2</td>\n",
              "      <td>122.400</td>\n",
              "      <td>148.650</td>\n",
              "      <td>113.819</td>\n",
              "      <td>0.00968</td>\n",
              "      <td>0.00008</td>\n",
              "      <td>0.00465</td>\n",
              "      <td>0.00696</td>\n",
              "      <td>0.01394</td>\n",
              "      <td>0.06134</td>\n",
              "      <td>0.626</td>\n",
              "      <td>0.03134</td>\n",
              "      <td>0.04518</td>\n",
              "      <td>0.04368</td>\n",
              "      <td>0.09403</td>\n",
              "      <td>0.01929</td>\n",
              "      <td>19.085</td>\n",
              "      <td>1</td>\n",
              "      <td>0.458359</td>\n",
              "      <td>0.819521</td>\n",
              "      <td>-4.075192</td>\n",
              "      <td>0.335590</td>\n",
              "      <td>2.486855</td>\n",
              "      <td>0.368674</td>\n",
              "    </tr>\n",
              "    <tr>\n",
              "      <th>2</th>\n",
              "      <td>phon_R01_S01_3</td>\n",
              "      <td>116.682</td>\n",
              "      <td>131.111</td>\n",
              "      <td>111.555</td>\n",
              "      <td>0.01050</td>\n",
              "      <td>0.00009</td>\n",
              "      <td>0.00544</td>\n",
              "      <td>0.00781</td>\n",
              "      <td>0.01633</td>\n",
              "      <td>0.05233</td>\n",
              "      <td>0.482</td>\n",
              "      <td>0.02757</td>\n",
              "      <td>0.03858</td>\n",
              "      <td>0.03590</td>\n",
              "      <td>0.08270</td>\n",
              "      <td>0.01309</td>\n",
              "      <td>20.651</td>\n",
              "      <td>1</td>\n",
              "      <td>0.429895</td>\n",
              "      <td>0.825288</td>\n",
              "      <td>-4.443179</td>\n",
              "      <td>0.311173</td>\n",
              "      <td>2.342259</td>\n",
              "      <td>0.332634</td>\n",
              "    </tr>\n",
              "    <tr>\n",
              "      <th>3</th>\n",
              "      <td>phon_R01_S01_4</td>\n",
              "      <td>116.676</td>\n",
              "      <td>137.871</td>\n",
              "      <td>111.366</td>\n",
              "      <td>0.00997</td>\n",
              "      <td>0.00009</td>\n",
              "      <td>0.00502</td>\n",
              "      <td>0.00698</td>\n",
              "      <td>0.01505</td>\n",
              "      <td>0.05492</td>\n",
              "      <td>0.517</td>\n",
              "      <td>0.02924</td>\n",
              "      <td>0.04005</td>\n",
              "      <td>0.03772</td>\n",
              "      <td>0.08771</td>\n",
              "      <td>0.01353</td>\n",
              "      <td>20.644</td>\n",
              "      <td>1</td>\n",
              "      <td>0.434969</td>\n",
              "      <td>0.819235</td>\n",
              "      <td>-4.117501</td>\n",
              "      <td>0.334147</td>\n",
              "      <td>2.405554</td>\n",
              "      <td>0.368975</td>\n",
              "    </tr>\n",
              "    <tr>\n",
              "      <th>4</th>\n",
              "      <td>phon_R01_S01_5</td>\n",
              "      <td>116.014</td>\n",
              "      <td>141.781</td>\n",
              "      <td>110.655</td>\n",
              "      <td>0.01284</td>\n",
              "      <td>0.00011</td>\n",
              "      <td>0.00655</td>\n",
              "      <td>0.00908</td>\n",
              "      <td>0.01966</td>\n",
              "      <td>0.06425</td>\n",
              "      <td>0.584</td>\n",
              "      <td>0.03490</td>\n",
              "      <td>0.04825</td>\n",
              "      <td>0.04465</td>\n",
              "      <td>0.10470</td>\n",
              "      <td>0.01767</td>\n",
              "      <td>19.649</td>\n",
              "      <td>1</td>\n",
              "      <td>0.417356</td>\n",
              "      <td>0.823484</td>\n",
              "      <td>-3.747787</td>\n",
              "      <td>0.234513</td>\n",
              "      <td>2.332180</td>\n",
              "      <td>0.410335</td>\n",
              "    </tr>\n",
              "  </tbody>\n",
              "</table>\n",
              "</div>"
            ],
            "text/plain": [
              "             name  MDVP:Fo(Hz)  MDVP:Fhi(Hz)  ...   spread2        D2       PPE\n",
              "0  phon_R01_S01_1      119.992       157.302  ...  0.266482  2.301442  0.284654\n",
              "1  phon_R01_S01_2      122.400       148.650  ...  0.335590  2.486855  0.368674\n",
              "2  phon_R01_S01_3      116.682       131.111  ...  0.311173  2.342259  0.332634\n",
              "3  phon_R01_S01_4      116.676       137.871  ...  0.334147  2.405554  0.368975\n",
              "4  phon_R01_S01_5      116.014       141.781  ...  0.234513  2.332180  0.410335\n",
              "\n",
              "[5 rows x 24 columns]"
            ]
          },
          "metadata": {
            "tags": []
          },
          "execution_count": 406
        }
      ]
    },
    {
      "cell_type": "markdown",
      "metadata": {
        "id": "e0F30zmaNHSo",
        "colab_type": "text"
      },
      "source": [
        "Attribute Information:\n",
        "\n",
        "* name - ASCII subject name and recording number\n",
        "* MDVP:Fo(Hz) - Average vocal fundamental frequency\n",
        "* MDVP:Fhi(Hz) - Maximum vocal fundamental frequency\n",
        "* MDVP:Flo(Hz) - Minimum vocal fundamental frequency\n",
        "* MDVP:Jitter(%),MDVP:Jitter(Abs),MDVP:RAP,MDVP:PPQ,Jitter:DDP - Several \n",
        "measures of variation in fundamental frequency\n",
        "* MDVP:Shimmer,MDVP:Shimmer(dB),Shimmer:APQ3,Shimmer:APQ5,MDVP:APQ,Shimmer:DDA - Several measures of variation in amplitude\n",
        "* NHR,HNR - Two measures of ratio of noise to tonal components in the voice\n",
        "* RPDE,D2 - Two nonlinear dynamical complexity measures\n",
        "* DFA - Signal fractal scaling exponent\n",
        "* spread1,spread2,PPE - Three nonlinear measures of fundamental frequency variation \n",
        "* **status** - Health status of the subject (one) - Parkinson's, (zero) - healthy"
      ]
    },
    {
      "cell_type": "markdown",
      "metadata": {
        "id": "pxyRovAoO3zr",
        "colab_type": "text"
      },
      "source": [
        "#Exploratory Data Analyses"
      ]
    },
    {
      "cell_type": "markdown",
      "metadata": {
        "id": "xGAztBDLO7dZ",
        "colab_type": "text"
      },
      "source": [
        "Referring to : https://www.kaggle.com/ekami66/detailed-exploratory-data-analysis-with-python"
      ]
    },
    {
      "cell_type": "code",
      "metadata": {
        "id": "wCCKC26PPA_G",
        "colab_type": "code",
        "colab": {}
      },
      "source": [
        "plt.style.use('bmh')"
      ],
      "execution_count": 0,
      "outputs": []
    },
    {
      "cell_type": "code",
      "metadata": {
        "id": "NlL711_INvbQ",
        "colab_type": "code",
        "outputId": "e007ca96-9532-408c-fee3-3ec6b78d1ff2",
        "colab": {
          "base_uri": "https://localhost:8080/",
          "height": 34
        }
      },
      "source": [
        "# Check if any Nans exist\n",
        "df.isnull().values.any()  # False; WE dont need to worry about missing values problem"
      ],
      "execution_count": 408,
      "outputs": [
        {
          "output_type": "execute_result",
          "data": {
            "text/plain": [
              "False"
            ]
          },
          "metadata": {
            "tags": []
          },
          "execution_count": 408
        }
      ]
    },
    {
      "cell_type": "markdown",
      "metadata": {
        "id": "gjCS4pXeSQxK",
        "colab_type": "text"
      },
      "source": [
        "## Numerical Value Distributions"
      ]
    },
    {
      "cell_type": "code",
      "metadata": {
        "id": "pYMP3i6TQQGf",
        "colab_type": "code",
        "outputId": "0ea719d5-af20-4bba-c58d-a36e5cbc8c05",
        "colab": {
          "base_uri": "https://localhost:8080/",
          "height": 34
        }
      },
      "source": [
        "list(set(df.dtypes.tolist()))"
      ],
      "execution_count": 409,
      "outputs": [
        {
          "output_type": "execute_result",
          "data": {
            "text/plain": [
              "[dtype('int64'), dtype('float64'), dtype('O')]"
            ]
          },
          "metadata": {
            "tags": []
          },
          "execution_count": 409
        }
      ]
    },
    {
      "cell_type": "markdown",
      "metadata": {
        "id": "knigqZ_zSyc3",
        "colab_type": "text"
      },
      "source": [
        "All of the columns in this `df` is numerical except the `name` column - it is a categorical."
      ]
    },
    {
      "cell_type": "markdown",
      "metadata": {
        "id": "5_d26oJGTH4Z",
        "colab_type": "text"
      },
      "source": [
        "We also know that `df['name']` is useless because it only records patients name."
      ]
    },
    {
      "cell_type": "code",
      "metadata": {
        "id": "CSp_cW4MSuNP",
        "colab_type": "code",
        "colab": {}
      },
      "source": [
        "# Removing column 'name'\n",
        "df = df.drop('name',1)"
      ],
      "execution_count": 0,
      "outputs": []
    },
    {
      "cell_type": "code",
      "metadata": {
        "id": "mvBJaNSjTpUu",
        "colab_type": "code",
        "outputId": "66baf56a-bb65-4827-d84a-1b29882d257a",
        "colab": {
          "base_uri": "https://localhost:8080/",
          "height": 215
        }
      },
      "source": [
        "df_num = df.select_dtypes(include = ['float64', 'int64'])\n",
        "df_num.head()  # Status is included here"
      ],
      "execution_count": 411,
      "outputs": [
        {
          "output_type": "execute_result",
          "data": {
            "text/html": [
              "<div>\n",
              "<style scoped>\n",
              "    .dataframe tbody tr th:only-of-type {\n",
              "        vertical-align: middle;\n",
              "    }\n",
              "\n",
              "    .dataframe tbody tr th {\n",
              "        vertical-align: top;\n",
              "    }\n",
              "\n",
              "    .dataframe thead th {\n",
              "        text-align: right;\n",
              "    }\n",
              "</style>\n",
              "<table border=\"1\" class=\"dataframe\">\n",
              "  <thead>\n",
              "    <tr style=\"text-align: right;\">\n",
              "      <th></th>\n",
              "      <th>MDVP:Fo(Hz)</th>\n",
              "      <th>MDVP:Fhi(Hz)</th>\n",
              "      <th>MDVP:Flo(Hz)</th>\n",
              "      <th>MDVP:Jitter(%)</th>\n",
              "      <th>MDVP:Jitter(Abs)</th>\n",
              "      <th>MDVP:RAP</th>\n",
              "      <th>MDVP:PPQ</th>\n",
              "      <th>Jitter:DDP</th>\n",
              "      <th>MDVP:Shimmer</th>\n",
              "      <th>MDVP:Shimmer(dB)</th>\n",
              "      <th>Shimmer:APQ3</th>\n",
              "      <th>Shimmer:APQ5</th>\n",
              "      <th>MDVP:APQ</th>\n",
              "      <th>Shimmer:DDA</th>\n",
              "      <th>NHR</th>\n",
              "      <th>HNR</th>\n",
              "      <th>status</th>\n",
              "      <th>RPDE</th>\n",
              "      <th>DFA</th>\n",
              "      <th>spread1</th>\n",
              "      <th>spread2</th>\n",
              "      <th>D2</th>\n",
              "      <th>PPE</th>\n",
              "    </tr>\n",
              "  </thead>\n",
              "  <tbody>\n",
              "    <tr>\n",
              "      <th>0</th>\n",
              "      <td>119.992</td>\n",
              "      <td>157.302</td>\n",
              "      <td>74.997</td>\n",
              "      <td>0.00784</td>\n",
              "      <td>0.00007</td>\n",
              "      <td>0.00370</td>\n",
              "      <td>0.00554</td>\n",
              "      <td>0.01109</td>\n",
              "      <td>0.04374</td>\n",
              "      <td>0.426</td>\n",
              "      <td>0.02182</td>\n",
              "      <td>0.03130</td>\n",
              "      <td>0.02971</td>\n",
              "      <td>0.06545</td>\n",
              "      <td>0.02211</td>\n",
              "      <td>21.033</td>\n",
              "      <td>1</td>\n",
              "      <td>0.414783</td>\n",
              "      <td>0.815285</td>\n",
              "      <td>-4.813031</td>\n",
              "      <td>0.266482</td>\n",
              "      <td>2.301442</td>\n",
              "      <td>0.284654</td>\n",
              "    </tr>\n",
              "    <tr>\n",
              "      <th>1</th>\n",
              "      <td>122.400</td>\n",
              "      <td>148.650</td>\n",
              "      <td>113.819</td>\n",
              "      <td>0.00968</td>\n",
              "      <td>0.00008</td>\n",
              "      <td>0.00465</td>\n",
              "      <td>0.00696</td>\n",
              "      <td>0.01394</td>\n",
              "      <td>0.06134</td>\n",
              "      <td>0.626</td>\n",
              "      <td>0.03134</td>\n",
              "      <td>0.04518</td>\n",
              "      <td>0.04368</td>\n",
              "      <td>0.09403</td>\n",
              "      <td>0.01929</td>\n",
              "      <td>19.085</td>\n",
              "      <td>1</td>\n",
              "      <td>0.458359</td>\n",
              "      <td>0.819521</td>\n",
              "      <td>-4.075192</td>\n",
              "      <td>0.335590</td>\n",
              "      <td>2.486855</td>\n",
              "      <td>0.368674</td>\n",
              "    </tr>\n",
              "    <tr>\n",
              "      <th>2</th>\n",
              "      <td>116.682</td>\n",
              "      <td>131.111</td>\n",
              "      <td>111.555</td>\n",
              "      <td>0.01050</td>\n",
              "      <td>0.00009</td>\n",
              "      <td>0.00544</td>\n",
              "      <td>0.00781</td>\n",
              "      <td>0.01633</td>\n",
              "      <td>0.05233</td>\n",
              "      <td>0.482</td>\n",
              "      <td>0.02757</td>\n",
              "      <td>0.03858</td>\n",
              "      <td>0.03590</td>\n",
              "      <td>0.08270</td>\n",
              "      <td>0.01309</td>\n",
              "      <td>20.651</td>\n",
              "      <td>1</td>\n",
              "      <td>0.429895</td>\n",
              "      <td>0.825288</td>\n",
              "      <td>-4.443179</td>\n",
              "      <td>0.311173</td>\n",
              "      <td>2.342259</td>\n",
              "      <td>0.332634</td>\n",
              "    </tr>\n",
              "    <tr>\n",
              "      <th>3</th>\n",
              "      <td>116.676</td>\n",
              "      <td>137.871</td>\n",
              "      <td>111.366</td>\n",
              "      <td>0.00997</td>\n",
              "      <td>0.00009</td>\n",
              "      <td>0.00502</td>\n",
              "      <td>0.00698</td>\n",
              "      <td>0.01505</td>\n",
              "      <td>0.05492</td>\n",
              "      <td>0.517</td>\n",
              "      <td>0.02924</td>\n",
              "      <td>0.04005</td>\n",
              "      <td>0.03772</td>\n",
              "      <td>0.08771</td>\n",
              "      <td>0.01353</td>\n",
              "      <td>20.644</td>\n",
              "      <td>1</td>\n",
              "      <td>0.434969</td>\n",
              "      <td>0.819235</td>\n",
              "      <td>-4.117501</td>\n",
              "      <td>0.334147</td>\n",
              "      <td>2.405554</td>\n",
              "      <td>0.368975</td>\n",
              "    </tr>\n",
              "    <tr>\n",
              "      <th>4</th>\n",
              "      <td>116.014</td>\n",
              "      <td>141.781</td>\n",
              "      <td>110.655</td>\n",
              "      <td>0.01284</td>\n",
              "      <td>0.00011</td>\n",
              "      <td>0.00655</td>\n",
              "      <td>0.00908</td>\n",
              "      <td>0.01966</td>\n",
              "      <td>0.06425</td>\n",
              "      <td>0.584</td>\n",
              "      <td>0.03490</td>\n",
              "      <td>0.04825</td>\n",
              "      <td>0.04465</td>\n",
              "      <td>0.10470</td>\n",
              "      <td>0.01767</td>\n",
              "      <td>19.649</td>\n",
              "      <td>1</td>\n",
              "      <td>0.417356</td>\n",
              "      <td>0.823484</td>\n",
              "      <td>-3.747787</td>\n",
              "      <td>0.234513</td>\n",
              "      <td>2.332180</td>\n",
              "      <td>0.410335</td>\n",
              "    </tr>\n",
              "  </tbody>\n",
              "</table>\n",
              "</div>"
            ],
            "text/plain": [
              "   MDVP:Fo(Hz)  MDVP:Fhi(Hz)  MDVP:Flo(Hz)  ...   spread2        D2       PPE\n",
              "0      119.992       157.302        74.997  ...  0.266482  2.301442  0.284654\n",
              "1      122.400       148.650       113.819  ...  0.335590  2.486855  0.368674\n",
              "2      116.682       131.111       111.555  ...  0.311173  2.342259  0.332634\n",
              "3      116.676       137.871       111.366  ...  0.334147  2.405554  0.368975\n",
              "4      116.014       141.781       110.655  ...  0.234513  2.332180  0.410335\n",
              "\n",
              "[5 rows x 23 columns]"
            ]
          },
          "metadata": {
            "tags": []
          },
          "execution_count": 411
        }
      ]
    },
    {
      "cell_type": "markdown",
      "metadata": {
        "id": "T9kp-ZAlZBkG",
        "colab_type": "text"
      },
      "source": [
        "Let's take a look at numerical data distributions."
      ]
    },
    {
      "cell_type": "code",
      "metadata": {
        "id": "IpkHAyQsYFLp",
        "colab_type": "code",
        "outputId": "f4d76666-93bd-4735-e8d7-d42b0219e2a3",
        "colab": {
          "base_uri": "https://localhost:8080/",
          "height": 1000
        }
      },
      "source": [
        "df_num.hist(figsize=(16, 20), bins=50, xlabelsize=8, ylabelsize=8)"
      ],
      "execution_count": 412,
      "outputs": [
        {
          "output_type": "execute_result",
          "data": {
            "text/plain": [
              "array([[<matplotlib.axes._subplots.AxesSubplot object at 0x7f5c6c16e1d0>,\n",
              "        <matplotlib.axes._subplots.AxesSubplot object at 0x7f5c6c18f828>,\n",
              "        <matplotlib.axes._subplots.AxesSubplot object at 0x7f5c6c134a90>,\n",
              "        <matplotlib.axes._subplots.AxesSubplot object at 0x7f5c6c0e5cf8>,\n",
              "        <matplotlib.axes._subplots.AxesSubplot object at 0x7f5c6c117f60>],\n",
              "       [<matplotlib.axes._subplots.AxesSubplot object at 0x7f5c6c0d4208>,\n",
              "        <matplotlib.axes._subplots.AxesSubplot object at 0x7f5c6c083470>,\n",
              "        <matplotlib.axes._subplots.AxesSubplot object at 0x7f5c6c0376a0>,\n",
              "        <matplotlib.axes._subplots.AxesSubplot object at 0x7f5c6c037710>,\n",
              "        <matplotlib.axes._subplots.AxesSubplot object at 0x7f5c6c018ba8>],\n",
              "       [<matplotlib.axes._subplots.AxesSubplot object at 0x7f5c6bfc9e10>,\n",
              "        <matplotlib.axes._subplots.AxesSubplot object at 0x7f5c6bf8d0b8>,\n",
              "        <matplotlib.axes._subplots.AxesSubplot object at 0x7f5c6bf3f320>,\n",
              "        <matplotlib.axes._subplots.AxesSubplot object at 0x7f5c6bef2588>,\n",
              "        <matplotlib.axes._subplots.AxesSubplot object at 0x7f5c6bea77f0>],\n",
              "       [<matplotlib.axes._subplots.AxesSubplot object at 0x7f5c6bedda58>,\n",
              "        <matplotlib.axes._subplots.AxesSubplot object at 0x7f5c6be8fcc0>,\n",
              "        <matplotlib.axes._subplots.AxesSubplot object at 0x7f5c6be46f28>,\n",
              "        <matplotlib.axes._subplots.AxesSubplot object at 0x7f5c6be051d0>,\n",
              "        <matplotlib.axes._subplots.AxesSubplot object at 0x7f5c6bdba438>],\n",
              "       [<matplotlib.axes._subplots.AxesSubplot object at 0x7f5c6bd6e6a0>,\n",
              "        <matplotlib.axes._subplots.AxesSubplot object at 0x7f5c6bda2908>,\n",
              "        <matplotlib.axes._subplots.AxesSubplot object at 0x7f5c6bd54b70>,\n",
              "        <matplotlib.axes._subplots.AxesSubplot object at 0x7f5c6bd0add8>,\n",
              "        <matplotlib.axes._subplots.AxesSubplot object at 0x7f5c6bcce048>]],\n",
              "      dtype=object)"
            ]
          },
          "metadata": {
            "tags": []
          },
          "execution_count": 412
        },
        {
          "output_type": "display_data",
          "data": {
            "image/png": "[encoded data removed]",
            "text/plain": [
              "<Figure size 1152x1440 with 25 Axes>"
            ]
          },
          "metadata": {
            "tags": [],
            "needs_background": "light"
          }
        }
      ]
    },
    {
      "cell_type": "markdown",
      "metadata": {
        "id": "VmDMqLsvYSZR",
        "colab_type": "text"
      },
      "source": [
        "The following shows correlation between each columns and `status`. `spread1`, `spread2` and `PPE` has high correlation with `status`."
      ]
    },
    {
      "cell_type": "code",
      "metadata": {
        "id": "qb0CXdj2WO1h",
        "colab_type": "code",
        "outputId": "30eaa244-8fc4-4a06-a0ad-b99da7342554",
        "colab": {
          "base_uri": "https://localhost:8080/",
          "height": 420
        }
      },
      "source": [
        "df_num.corr()['status']"
      ],
      "execution_count": 413,
      "outputs": [
        {
          "output_type": "execute_result",
          "data": {
            "text/plain": [
              "MDVP:Fo(Hz)        -0.383535\n",
              "MDVP:Fhi(Hz)       -0.166136\n",
              "MDVP:Flo(Hz)       -0.380200\n",
              "MDVP:Jitter(%)      0.278220\n",
              "MDVP:Jitter(Abs)    0.338653\n",
              "MDVP:RAP            0.266668\n",
              "MDVP:PPQ            0.288698\n",
              "Jitter:DDP          0.266646\n",
              "MDVP:Shimmer        0.367430\n",
              "MDVP:Shimmer(dB)    0.350697\n",
              "Shimmer:APQ3        0.347617\n",
              "Shimmer:APQ5        0.351148\n",
              "MDVP:APQ            0.364316\n",
              "Shimmer:DDA         0.347608\n",
              "NHR                 0.189429\n",
              "HNR                -0.361515\n",
              "status              1.000000\n",
              "RPDE                0.308567\n",
              "DFA                 0.231739\n",
              "spread1             0.564838\n",
              "spread2             0.454842\n",
              "D2                  0.340232\n",
              "PPE                 0.531039\n",
              "Name: status, dtype: float64"
            ]
          },
          "metadata": {
            "tags": []
          },
          "execution_count": 413
        }
      ]
    },
    {
      "cell_type": "markdown",
      "metadata": {
        "id": "hXXwQnAPP8ap",
        "colab_type": "text"
      },
      "source": [
        "## Target value distributions"
      ]
    },
    {
      "cell_type": "markdown",
      "metadata": {
        "id": "-lw8Fd2TRjX_",
        "colab_type": "text"
      },
      "source": [
        "Let's take a look at the distribution of the target value: `status`"
      ]
    },
    {
      "cell_type": "code",
      "metadata": {
        "id": "Un2VbERVQpzd",
        "colab_type": "code",
        "outputId": "96b56640-d17c-4c91-f6fc-a02ec6f0d21d",
        "colab": {
          "base_uri": "https://localhost:8080/",
          "height": 279
        }
      },
      "source": [
        "df_num['status'].plot.hist(color='g', alpha = 0.4)"
      ],
      "execution_count": 414,
      "outputs": [
        {
          "output_type": "execute_result",
          "data": {
            "text/plain": [
              "<matplotlib.axes._subplots.AxesSubplot at 0x7f5c6bd7f1d0>"
            ]
          },
          "metadata": {
            "tags": []
          },
          "execution_count": 414
        },
        {
          "output_type": "display_data",
          "data": {
            "image/png": "[encoded data removed]",
            "text/plain": [
              "<Figure size 432x288 with 1 Axes>"
            ]
          },
          "metadata": {
            "tags": [],
            "needs_background": "light"
          }
        }
      ]
    },
    {
      "cell_type": "code",
      "metadata": {
        "id": "nv7uwFBFPZLu",
        "colab_type": "code",
        "outputId": "c2e32b71-710b-4161-ab39-f16c269d0b10",
        "colab": {
          "base_uri": "https://localhost:8080/",
          "height": 168
        }
      },
      "source": [
        "# Distribution of Target value: Status\n",
        "df_num['status'].describe()"
      ],
      "execution_count": 415,
      "outputs": [
        {
          "output_type": "execute_result",
          "data": {
            "text/plain": [
              "count    195.000000\n",
              "mean       0.753846\n",
              "std        0.431878\n",
              "min        0.000000\n",
              "25%        1.000000\n",
              "50%        1.000000\n",
              "75%        1.000000\n",
              "max        1.000000\n",
              "Name: status, dtype: float64"
            ]
          },
          "metadata": {
            "tags": []
          },
          "execution_count": 415
        }
      ]
    },
    {
      "cell_type": "markdown",
      "metadata": {
        "id": "0cIrw_6TRDrt",
        "colab_type": "text"
      },
      "source": [
        "We are seeing the class imbalance problem: we have way more cases of Parkinson's disease than normal patients. A naive classifier would just classify a sample as Parkinson's 3 out of 4 times and will achieve a good accuracy. To be exact, count the occurences of `status` equals 0 and 1."
      ]
    },
    {
      "cell_type": "code",
      "metadata": {
        "id": "fgkZTmGEZohH",
        "colab_type": "code",
        "outputId": "11065969-7e1f-4975-9339-44b34d9bff2b",
        "colab": {
          "base_uri": "https://localhost:8080/",
          "height": 34
        }
      },
      "source": [
        "print(\"Number of status = 1 is\", df_num.status[df_num.status==1].sum())"
      ],
      "execution_count": 416,
      "outputs": [
        {
          "output_type": "stream",
          "text": [
            "Number of status = 1 is 147\n"
          ],
          "name": "stdout"
        }
      ]
    },
    {
      "cell_type": "markdown",
      "metadata": {
        "id": "70iOagkVawmA",
        "colab_type": "text"
      },
      "source": [
        "# Fixing imbalance data"
      ]
    },
    {
      "cell_type": "code",
      "metadata": {
        "id": "1aNHiTlaazSH",
        "colab_type": "code",
        "colab": {}
      },
      "source": [
        "# https://www.kdnuggets.com/2017/06/7-techniques-handle-imbalanced-data.html "
      ],
      "execution_count": 0,
      "outputs": []
    },
    {
      "cell_type": "markdown",
      "metadata": {
        "id": "Qi_H6nQtQHwn",
        "colab_type": "text"
      },
      "source": [
        "Take 40 from `status` 0 and 40 from `status` 1"
      ]
    },
    {
      "cell_type": "markdown",
      "metadata": {
        "id": "akWIENhcQreb",
        "colab_type": "text"
      },
      "source": [
        "# Models"
      ]
    },
    {
      "cell_type": "markdown",
      "metadata": {
        "id": "nrpWHBbrQyib",
        "colab_type": "text"
      },
      "source": [
        "* Logistic Regression\n",
        "* Decision Tree\n",
        "* Random Forest\n",
        "* A Neural Network as a baseline\n",
        "\n",
        "Use `df_num`"
      ]
    },
    {
      "cell_type": "markdown",
      "metadata": {
        "id": "mCioB2sLUxJB",
        "colab_type": "text"
      },
      "source": [
        "## Logistic Regression"
      ]
    },
    {
      "cell_type": "code",
      "metadata": {
        "id": "8AJ5wyRXXBOz",
        "colab_type": "code",
        "outputId": "c02a3609-1cb7-4a49-aa47-5bfcc91d169d",
        "colab": {
          "base_uri": "https://localhost:8080/",
          "height": 118
        }
      },
      "source": [
        "df_num.columns"
      ],
      "execution_count": 418,
      "outputs": [
        {
          "output_type": "execute_result",
          "data": {
            "text/plain": [
              "Index(['MDVP:Fo(Hz)', 'MDVP:Fhi(Hz)', 'MDVP:Flo(Hz)', 'MDVP:Jitter(%)',\n",
              "       'MDVP:Jitter(Abs)', 'MDVP:RAP', 'MDVP:PPQ', 'Jitter:DDP',\n",
              "       'MDVP:Shimmer', 'MDVP:Shimmer(dB)', 'Shimmer:APQ3', 'Shimmer:APQ5',\n",
              "       'MDVP:APQ', 'Shimmer:DDA', 'NHR', 'HNR', 'status', 'RPDE', 'DFA',\n",
              "       'spread1', 'spread2', 'D2', 'PPE'],\n",
              "      dtype='object')"
            ]
          },
          "metadata": {
            "tags": []
          },
          "execution_count": 418
        }
      ]
    },
    {
      "cell_type": "code",
      "metadata": {
        "id": "1qB6PsLfYZQa",
        "colab_type": "code",
        "colab": {}
      },
      "source": [
        "\n",
        "# Train data index\n",
        "index_0 = np.random.choice(df_num[df_num.status==0].index, 40, replace = False)\n",
        "index_1 = np.random.choice(df_num[df_num.status==1].index, 40, replace = False)\n",
        "train_ind = np.concatenate((index_0, index_1))\n",
        "\n",
        "# Test data index\n",
        "test_ind = [ind for ind in list(df_num.index) if ind not in train_ind]"
      ],
      "execution_count": 0,
      "outputs": []
    },
    {
      "cell_type": "code",
      "metadata": {
        "id": "cqCLLpWKmfmx",
        "colab_type": "code",
        "colab": {}
      },
      "source": [
        "# Split features and target dfs\n",
        "df_num_Y = df_num.pop('status')\n",
        "df_num_X = df_num"
      ],
      "execution_count": 0,
      "outputs": []
    },
    {
      "cell_type": "code",
      "metadata": {
        "id": "cSBwknO_ju31",
        "colab_type": "code",
        "colab": {}
      },
      "source": [
        "X_train = df_num_X.iloc[train_ind,:]\n",
        "X_test = df_num_X.iloc[test_ind,:]\n",
        "\n",
        "Y_train = df_num_Y.iloc[train_ind]\n",
        "Y_test = df_num_Y.iloc[test_ind]"
      ],
      "execution_count": 0,
      "outputs": []
    },
    {
      "cell_type": "code",
      "metadata": {
        "id": "boDEnfxNUuLa",
        "colab_type": "code",
        "outputId": "944a3aae-07d2-4e9f-a434-9b4cb4d47a28",
        "colab": {
          "base_uri": "https://localhost:8080/",
          "height": 255
        }
      },
      "source": [
        "log_reg = LogisticRegression()\n",
        "log_reg.fit(X_train, Y_train)"
      ],
      "execution_count": 422,
      "outputs": [
        {
          "output_type": "stream",
          "text": [
            "/usr/local/lib/python3.6/dist-packages/sklearn/linear_model/_logistic.py:940: ConvergenceWarning: lbfgs failed to converge (status=1):\n",
            "STOP: TOTAL NO. of ITERATIONS REACHED LIMIT.\n",
            "\n",
            "Increase the number of iterations (max_iter) or scale the data as shown in:\n",
            "    https://scikit-learn.org/stable/modules/preprocessing.html\n",
            "Please also refer to the documentation for alternative solver options:\n",
            "    https://scikit-learn.org/stable/modules/linear_model.html#logistic-regression\n",
            "  extra_warning_msg=_LOGISTIC_SOLVER_CONVERGENCE_MSG)\n"
          ],
          "name": "stderr"
        },
        {
          "output_type": "execute_result",
          "data": {
            "text/plain": [
              "LogisticRegression(C=1.0, class_weight=None, dual=False, fit_intercept=True,\n",
              "                   intercept_scaling=1, l1_ratio=None, max_iter=100,\n",
              "                   multi_class='auto', n_jobs=None, penalty='l2',\n",
              "                   random_state=None, solver='lbfgs', tol=0.0001, verbose=0,\n",
              "                   warm_start=False)"
            ]
          },
          "metadata": {
            "tags": []
          },
          "execution_count": 422
        }
      ]
    },
    {
      "cell_type": "markdown",
      "metadata": {
        "id": "7VTaF9VtijJF",
        "colab_type": "text"
      },
      "source": [
        "Covergence fail above. Let's plan to scale each features."
      ]
    },
    {
      "cell_type": "code",
      "metadata": {
        "id": "sJMEMoaUY1AT",
        "colab_type": "code",
        "outputId": "b07f43c2-3d28-4f5b-98d2-8b7d2a56a56c",
        "colab": {
          "base_uri": "https://localhost:8080/",
          "height": 101
        }
      },
      "source": [
        "\n",
        "scaler = StandardScaler()\n",
        "scaler.fit(X_train)\n",
        "X_train_scaled = scaler.transform(X_train)\n",
        "\n",
        "scaler = StandardScaler()\n",
        "scaler.fit(X_test)\n",
        "X_test_scaled = scaler.transform(X_test)\n",
        "\n",
        "log_reg_scaled = LogisticRegression()\n",
        "log_reg_scaled.fit(X_train_scaled, Y_train)"
      ],
      "execution_count": 423,
      "outputs": [
        {
          "output_type": "execute_result",
          "data": {
            "text/plain": [
              "LogisticRegression(C=1.0, class_weight=None, dual=False, fit_intercept=True,\n",
              "                   intercept_scaling=1, l1_ratio=None, max_iter=100,\n",
              "                   multi_class='auto', n_jobs=None, penalty='l2',\n",
              "                   random_state=None, solver='lbfgs', tol=0.0001, verbose=0,\n",
              "                   warm_start=False)"
            ]
          },
          "metadata": {
            "tags": []
          },
          "execution_count": 423
        }
      ]
    },
    {
      "cell_type": "markdown",
      "metadata": {
        "id": "zGnFyxKFjTEp",
        "colab_type": "text"
      },
      "source": [
        "Convergence success! Let's check performances"
      ]
    },
    {
      "cell_type": "markdown",
      "metadata": {
        "id": "hHKV6lbJloD2",
        "colab_type": "text"
      },
      "source": [
        "Training Performance:72/80 accuracy"
      ]
    },
    {
      "cell_type": "code",
      "metadata": {
        "id": "gvWN3CdJjM3c",
        "colab_type": "code",
        "outputId": "f29f311c-34a2-47b0-eb1a-32d7b9cd1883",
        "colab": {
          "base_uri": "https://localhost:8080/",
          "height": 50
        }
      },
      "source": [
        "Y_train_pred = log_reg_scaled.predict(X_train_scaled)\n",
        "confusion_matrix(Y_train, Y_train_pred)"
      ],
      "execution_count": 424,
      "outputs": [
        {
          "output_type": "execute_result",
          "data": {
            "text/plain": [
              "array([[37,  3],\n",
              "       [ 5, 35]])"
            ]
          },
          "metadata": {
            "tags": []
          },
          "execution_count": 424
        }
      ]
    },
    {
      "cell_type": "markdown",
      "metadata": {
        "id": "e-OM3tiel4lI",
        "colab_type": "text"
      },
      "source": [
        "Testing Performance: 66/115.\n",
        "\n",
        "It seems like the model over-predict class 0 (the 49 instances). Why is that so?"
      ]
    },
    {
      "cell_type": "code",
      "metadata": {
        "id": "z3DYza-0jwPs",
        "colab_type": "code",
        "outputId": "b02e5dc6-8ece-4805-ccc4-5f4cb3104f22",
        "colab": {
          "base_uri": "https://localhost:8080/",
          "height": 50
        }
      },
      "source": [
        "Y_test_pred = log_reg_scaled.predict(X_test_scaled)\n",
        "\n",
        "confusion_matrix(Y_test, Y_test_pred)"
      ],
      "execution_count": 425,
      "outputs": [
        {
          "output_type": "execute_result",
          "data": {
            "text/plain": [
              "array([[ 8,  0],\n",
              "       [49, 58]])"
            ]
          },
          "metadata": {
            "tags": []
          },
          "execution_count": 425
        }
      ]
    },
    {
      "cell_type": "code",
      "metadata": {
        "id": "Z4Gr8iienIjD",
        "colab_type": "code",
        "outputId": "396673ce-a13b-4e75-eaac-2cfc4d33e936",
        "colab": {
          "base_uri": "https://localhost:8080/",
          "height": 34
        }
      },
      "source": [
        "sum(Y_test_pred==0)"
      ],
      "execution_count": 426,
      "outputs": [
        {
          "output_type": "execute_result",
          "data": {
            "text/plain": [
              "57"
            ]
          },
          "metadata": {
            "tags": []
          },
          "execution_count": 426
        }
      ]
    },
    {
      "cell_type": "code",
      "metadata": {
        "id": "NmCF6RSTnOv5",
        "colab_type": "code",
        "outputId": "46268ac0-ad90-4cf5-bb38-34fb5fb57ad4",
        "colab": {
          "base_uri": "https://localhost:8080/",
          "height": 34
        }
      },
      "source": [
        "sum(Y_test_pred==1)"
      ],
      "execution_count": 427,
      "outputs": [
        {
          "output_type": "execute_result",
          "data": {
            "text/plain": [
              "58"
            ]
          },
          "metadata": {
            "tags": []
          },
          "execution_count": 427
        }
      ]
    },
    {
      "cell_type": "markdown",
      "metadata": {
        "id": "jJywyDYXBlBe",
        "colab_type": "text"
      },
      "source": [
        "### Checking Coeffecients"
      ]
    },
    {
      "cell_type": "code",
      "metadata": {
        "id": "Ti1jnMekCzlz",
        "colab_type": "code",
        "colab": {}
      },
      "source": [
        "coeffs = pd.DataFrame(\n",
        "    data = log_reg_scaled.coef_[0,:],\n",
        "    index = X_train.columns,\n",
        "    columns = ['Coefficients']\n",
        ")"
      ],
      "execution_count": 0,
      "outputs": []
    },
    {
      "cell_type": "code",
      "metadata": {
        "id": "xXXZ9Yz0FIej",
        "colab_type": "code",
        "outputId": "255bcdec-9dbd-41fb-84ff-7545a6f2aaef",
        "colab": {
          "base_uri": "https://localhost:8080/",
          "height": 698
        }
      },
      "source": [
        "coeffs.sort_values(ascending=True, by = ['Coefficients'])"
      ],
      "execution_count": 429,
      "outputs": [
        {
          "output_type": "execute_result",
          "data": {
            "text/html": [
              "<div>\n",
              "<style scoped>\n",
              "    .dataframe tbody tr th:only-of-type {\n",
              "        vertical-align: middle;\n",
              "    }\n",
              "\n",
              "    .dataframe tbody tr th {\n",
              "        vertical-align: top;\n",
              "    }\n",
              "\n",
              "    .dataframe thead th {\n",
              "        text-align: right;\n",
              "    }\n",
              "</style>\n",
              "<table border=\"1\" class=\"dataframe\">\n",
              "  <thead>\n",
              "    <tr style=\"text-align: right;\">\n",
              "      <th></th>\n",
              "      <th>Coefficients</th>\n",
              "    </tr>\n",
              "  </thead>\n",
              "  <tbody>\n",
              "    <tr>\n",
              "      <th>MDVP:Jitter(%)</th>\n",
              "      <td>-0.510585</td>\n",
              "    </tr>\n",
              "    <tr>\n",
              "      <th>MDVP:PPQ</th>\n",
              "      <td>-0.422832</td>\n",
              "    </tr>\n",
              "    <tr>\n",
              "      <th>MDVP:Jitter(Abs)</th>\n",
              "      <td>-0.276417</td>\n",
              "    </tr>\n",
              "    <tr>\n",
              "      <th>Shimmer:APQ3</th>\n",
              "      <td>-0.131825</td>\n",
              "    </tr>\n",
              "    <tr>\n",
              "      <th>Shimmer:DDA</th>\n",
              "      <td>-0.131773</td>\n",
              "    </tr>\n",
              "    <tr>\n",
              "      <th>MDVP:Flo(Hz)</th>\n",
              "      <td>-0.070498</td>\n",
              "    </tr>\n",
              "    <tr>\n",
              "      <th>MDVP:Fo(Hz)</th>\n",
              "      <td>-0.062321</td>\n",
              "    </tr>\n",
              "    <tr>\n",
              "      <th>NHR</th>\n",
              "      <td>-0.049403</td>\n",
              "    </tr>\n",
              "    <tr>\n",
              "      <th>MDVP:Fhi(Hz)</th>\n",
              "      <td>0.065902</td>\n",
              "    </tr>\n",
              "    <tr>\n",
              "      <th>RPDE</th>\n",
              "      <td>0.123570</td>\n",
              "    </tr>\n",
              "    <tr>\n",
              "      <th>MDVP:Shimmer(dB)</th>\n",
              "      <td>0.204403</td>\n",
              "    </tr>\n",
              "    <tr>\n",
              "      <th>MDVP:Shimmer</th>\n",
              "      <td>0.341526</td>\n",
              "    </tr>\n",
              "    <tr>\n",
              "      <th>PPE</th>\n",
              "      <td>0.403403</td>\n",
              "    </tr>\n",
              "    <tr>\n",
              "      <th>DFA</th>\n",
              "      <td>0.464220</td>\n",
              "    </tr>\n",
              "    <tr>\n",
              "      <th>Shimmer:APQ5</th>\n",
              "      <td>0.467772</td>\n",
              "    </tr>\n",
              "    <tr>\n",
              "      <th>HNR</th>\n",
              "      <td>0.534353</td>\n",
              "    </tr>\n",
              "    <tr>\n",
              "      <th>Jitter:DDP</th>\n",
              "      <td>0.668118</td>\n",
              "    </tr>\n",
              "    <tr>\n",
              "      <th>MDVP:RAP</th>\n",
              "      <td>0.669548</td>\n",
              "    </tr>\n",
              "    <tr>\n",
              "      <th>D2</th>\n",
              "      <td>0.710626</td>\n",
              "    </tr>\n",
              "    <tr>\n",
              "      <th>spread2</th>\n",
              "      <td>0.713354</td>\n",
              "    </tr>\n",
              "    <tr>\n",
              "      <th>spread1</th>\n",
              "      <td>0.863336</td>\n",
              "    </tr>\n",
              "    <tr>\n",
              "      <th>MDVP:APQ</th>\n",
              "      <td>1.008640</td>\n",
              "    </tr>\n",
              "  </tbody>\n",
              "</table>\n",
              "</div>"
            ],
            "text/plain": [
              "                  Coefficients\n",
              "MDVP:Jitter(%)       -0.510585\n",
              "MDVP:PPQ             -0.422832\n",
              "MDVP:Jitter(Abs)     -0.276417\n",
              "Shimmer:APQ3         -0.131825\n",
              "Shimmer:DDA          -0.131773\n",
              "MDVP:Flo(Hz)         -0.070498\n",
              "MDVP:Fo(Hz)          -0.062321\n",
              "NHR                  -0.049403\n",
              "MDVP:Fhi(Hz)          0.065902\n",
              "RPDE                  0.123570\n",
              "MDVP:Shimmer(dB)      0.204403\n",
              "MDVP:Shimmer          0.341526\n",
              "PPE                   0.403403\n",
              "DFA                   0.464220\n",
              "Shimmer:APQ5          0.467772\n",
              "HNR                   0.534353\n",
              "Jitter:DDP            0.668118\n",
              "MDVP:RAP              0.669548\n",
              "D2                    0.710626\n",
              "spread2               0.713354\n",
              "spread1               0.863336\n",
              "MDVP:APQ              1.008640"
            ]
          },
          "metadata": {
            "tags": []
          },
          "execution_count": 429
        }
      ]
    },
    {
      "cell_type": "markdown",
      "metadata": {
        "id": "7rFgyH5-GrNP",
        "colab_type": "text"
      },
      "source": [
        "Let's pick the five featues with the largest coefficients"
      ]
    },
    {
      "cell_type": "code",
      "metadata": {
        "id": "aJa0LXbZGSur",
        "colab_type": "code",
        "outputId": "c97200d4-1584-4d18-92fc-0e36bb839d88",
        "colab": {
          "base_uri": "https://localhost:8080/",
          "height": 34
        }
      },
      "source": [
        "five_feat=coeffs.abs().nlargest(5, columns = 'Coefficients').index\n",
        "print(five_feat)"
      ],
      "execution_count": 430,
      "outputs": [
        {
          "output_type": "stream",
          "text": [
            "Index(['MDVP:APQ', 'spread1', 'spread2', 'D2', 'MDVP:RAP'], dtype='object')\n"
          ],
          "name": "stdout"
        }
      ]
    },
    {
      "cell_type": "code",
      "metadata": {
        "id": "l1YCGxxzhNrl",
        "colab_type": "code",
        "colab": {
          "base_uri": "https://localhost:8080/",
          "height": 34
        },
        "outputId": "b353bece-cee5-4511-f086-5d0c47075540"
      },
      "source": [
        "five_feat_indexes = [coeffs.index.to_list().index(item) for item in five_feat ]\n",
        "print(five_feat_indexes)"
      ],
      "execution_count": 431,
      "outputs": [
        {
          "output_type": "stream",
          "text": [
            "[12, 18, 19, 20, 5]\n"
          ],
          "name": "stdout"
        }
      ]
    },
    {
      "cell_type": "code",
      "metadata": {
        "id": "ZYUFMYj6h4ZZ",
        "colab_type": "code",
        "colab": {
          "base_uri": "https://localhost:8080/",
          "height": 118
        },
        "outputId": "a2ff693b-e87b-4ef0-a510-c9574fb262e0"
      },
      "source": [
        "print(coeffs.index)"
      ],
      "execution_count": 432,
      "outputs": [
        {
          "output_type": "stream",
          "text": [
            "Index(['MDVP:Fo(Hz)', 'MDVP:Fhi(Hz)', 'MDVP:Flo(Hz)', 'MDVP:Jitter(%)',\n",
            "       'MDVP:Jitter(Abs)', 'MDVP:RAP', 'MDVP:PPQ', 'Jitter:DDP',\n",
            "       'MDVP:Shimmer', 'MDVP:Shimmer(dB)', 'Shimmer:APQ3', 'Shimmer:APQ5',\n",
            "       'MDVP:APQ', 'Shimmer:DDA', 'NHR', 'HNR', 'RPDE', 'DFA', 'spread1',\n",
            "       'spread2', 'D2', 'PPE'],\n",
            "      dtype='object')\n"
          ],
          "name": "stdout"
        }
      ]
    },
    {
      "cell_type": "code",
      "metadata": {
        "id": "u1bvgmdIHHkh",
        "colab_type": "code",
        "colab": {}
      },
      "source": [
        "X_train_five = pd.DataFrame(X_train_scaled).iloc[:,five_feat_indexes]\n",
        "X_test_five = pd.DataFrame(X_test_scaled).iloc[:,five_feat_indexes]"
      ],
      "execution_count": 0,
      "outputs": []
    },
    {
      "cell_type": "markdown",
      "metadata": {
        "id": "_-L6Oef45Tvt",
        "colab_type": "text"
      },
      "source": [
        "## Regularized Logistic Regression"
      ]
    },
    {
      "cell_type": "code",
      "metadata": {
        "id": "YzoFXQQy5Ymu",
        "colab_type": "code",
        "outputId": "19cd157a-7aab-4c0e-dff1-df3a0c576983",
        "colab": {
          "base_uri": "https://localhost:8080/",
          "height": 101
        }
      },
      "source": [
        "c_log_reg_scaled = LogisticRegression(C=0.00001)\n",
        "c_log_reg_scaled.fit(X_train_scaled, Y_train)"
      ],
      "execution_count": 434,
      "outputs": [
        {
          "output_type": "execute_result",
          "data": {
            "text/plain": [
              "LogisticRegression(C=1e-05, class_weight=None, dual=False, fit_intercept=True,\n",
              "                   intercept_scaling=1, l1_ratio=None, max_iter=100,\n",
              "                   multi_class='auto', n_jobs=None, penalty='l2',\n",
              "                   random_state=None, solver='lbfgs', tol=0.0001, verbose=0,\n",
              "                   warm_start=False)"
            ]
          },
          "metadata": {
            "tags": []
          },
          "execution_count": 434
        }
      ]
    },
    {
      "cell_type": "code",
      "metadata": {
        "id": "hiYuZd_B5TIg",
        "colab_type": "code",
        "outputId": "57280303-77f3-4b64-82ea-9d07cb4e4688",
        "colab": {
          "base_uri": "https://localhost:8080/",
          "height": 50
        }
      },
      "source": [
        "Y_test_pred = log_reg_scaled.predict(X_test_scaled)\n",
        "confusion_matrix(Y_test, Y_test_pred)"
      ],
      "execution_count": 435,
      "outputs": [
        {
          "output_type": "execute_result",
          "data": {
            "text/plain": [
              "array([[ 8,  0],\n",
              "       [49, 58]])"
            ]
          },
          "metadata": {
            "tags": []
          },
          "execution_count": 435
        }
      ]
    },
    {
      "cell_type": "markdown",
      "metadata": {
        "id": "gU5blA_aso2_",
        "colab_type": "text"
      },
      "source": [
        "## Neural Networks"
      ]
    },
    {
      "cell_type": "code",
      "metadata": {
        "id": "IGe3ostxnX0U",
        "colab_type": "code",
        "outputId": "8ef43652-ded1-4104-a86f-06f770d332b2",
        "colab": {
          "base_uri": "https://localhost:8080/",
          "height": 1000
        }
      },
      "source": [
        "\n",
        "\n",
        "nn_simple_model = Sequential ([\n",
        "                        Dense(1, activation = 'sigmoid', input_dim =22)\n",
        "                        ])\n",
        "nn_simple_model.compile(loss='binary_crossentropy', optimizer='adam', metrics=['accuracy'])\n",
        "nn_simple_model.fit(X_train_scaled, Y_train, epochs=100)"
      ],
      "execution_count": 436,
      "outputs": [
        {
          "output_type": "stream",
          "text": [
            "Epoch 1/100\n",
            "80/80 [==============================] - 0s 748us/step - loss: 1.0472 - accuracy: 0.5000\n",
            "Epoch 2/100\n",
            "80/80 [==============================] - 0s 151us/step - loss: 1.0296 - accuracy: 0.5000\n",
            "Epoch 3/100\n",
            "80/80 [==============================] - 0s 113us/step - loss: 1.0102 - accuracy: 0.5125\n",
            "Epoch 4/100\n",
            "80/80 [==============================] - 0s 101us/step - loss: 0.9920 - accuracy: 0.5125\n",
            "Epoch 5/100\n",
            "80/80 [==============================] - 0s 121us/step - loss: 0.9729 - accuracy: 0.5125\n",
            "Epoch 6/100\n",
            "80/80 [==============================] - 0s 90us/step - loss: 0.9541 - accuracy: 0.5375\n",
            "Epoch 7/100\n",
            "80/80 [==============================] - 0s 92us/step - loss: 0.9370 - accuracy: 0.5375\n",
            "Epoch 8/100\n",
            "80/80 [==============================] - 0s 183us/step - loss: 0.9201 - accuracy: 0.5375\n",
            "Epoch 9/100\n",
            "80/80 [==============================] - 0s 101us/step - loss: 0.9020 - accuracy: 0.5375\n",
            "Epoch 10/100\n",
            "80/80 [==============================] - 0s 109us/step - loss: 0.8852 - accuracy: 0.5500\n",
            "Epoch 11/100\n",
            "80/80 [==============================] - 0s 106us/step - loss: 0.8701 - accuracy: 0.5375\n",
            "Epoch 12/100\n",
            "80/80 [==============================] - 0s 109us/step - loss: 0.8538 - accuracy: 0.5500\n",
            "Epoch 13/100\n",
            "80/80 [==============================] - 0s 102us/step - loss: 0.8391 - accuracy: 0.5500\n",
            "Epoch 14/100\n",
            "80/80 [==============================] - 0s 108us/step - loss: 0.8240 - accuracy: 0.5875\n",
            "Epoch 15/100\n",
            "80/80 [==============================] - 0s 128us/step - loss: 0.8099 - accuracy: 0.5875\n",
            "Epoch 16/100\n",
            "80/80 [==============================] - 0s 144us/step - loss: 0.7960 - accuracy: 0.5750\n",
            "Epoch 17/100\n",
            "80/80 [==============================] - 0s 169us/step - loss: 0.7829 - accuracy: 0.5875\n",
            "Epoch 18/100\n",
            "80/80 [==============================] - 0s 120us/step - loss: 0.7700 - accuracy: 0.5750\n",
            "Epoch 19/100\n",
            "80/80 [==============================] - 0s 105us/step - loss: 0.7580 - accuracy: 0.5750\n",
            "Epoch 20/100\n",
            "80/80 [==============================] - 0s 102us/step - loss: 0.7452 - accuracy: 0.5750\n",
            "Epoch 21/100\n",
            "80/80 [==============================] - 0s 111us/step - loss: 0.7340 - accuracy: 0.5875\n",
            "Epoch 22/100\n",
            "80/80 [==============================] - 0s 108us/step - loss: 0.7220 - accuracy: 0.5750\n",
            "Epoch 23/100\n",
            "80/80 [==============================] - 0s 118us/step - loss: 0.7113 - accuracy: 0.6000\n",
            "Epoch 24/100\n",
            "80/80 [==============================] - 0s 117us/step - loss: 0.7008 - accuracy: 0.6000\n",
            "Epoch 25/100\n",
            "80/80 [==============================] - 0s 110us/step - loss: 0.6903 - accuracy: 0.6000\n",
            "Epoch 26/100\n",
            "80/80 [==============================] - 0s 103us/step - loss: 0.6805 - accuracy: 0.6000\n",
            "Epoch 27/100\n",
            "80/80 [==============================] - 0s 127us/step - loss: 0.6712 - accuracy: 0.6250\n",
            "Epoch 28/100\n",
            "80/80 [==============================] - 0s 110us/step - loss: 0.6617 - accuracy: 0.6250\n",
            "Epoch 29/100\n",
            "80/80 [==============================] - 0s 109us/step - loss: 0.6532 - accuracy: 0.6375\n",
            "Epoch 30/100\n",
            "80/80 [==============================] - 0s 109us/step - loss: 0.6445 - accuracy: 0.6500\n",
            "Epoch 31/100\n",
            "80/80 [==============================] - 0s 106us/step - loss: 0.6363 - accuracy: 0.6500\n",
            "Epoch 32/100\n",
            "80/80 [==============================] - 0s 108us/step - loss: 0.6277 - accuracy: 0.6375\n",
            "Epoch 33/100\n",
            "80/80 [==============================] - 0s 106us/step - loss: 0.6201 - accuracy: 0.6375\n",
            "Epoch 34/100\n",
            "80/80 [==============================] - 0s 99us/step - loss: 0.6128 - accuracy: 0.6625\n",
            "Epoch 35/100\n",
            "80/80 [==============================] - 0s 113us/step - loss: 0.6056 - accuracy: 0.6750\n",
            "Epoch 36/100\n",
            "80/80 [==============================] - 0s 107us/step - loss: 0.5982 - accuracy: 0.6750\n",
            "Epoch 37/100\n",
            "80/80 [==============================] - 0s 133us/step - loss: 0.5924 - accuracy: 0.6750\n",
            "Epoch 38/100\n",
            "80/80 [==============================] - 0s 124us/step - loss: 0.5857 - accuracy: 0.6750\n",
            "Epoch 39/100\n",
            "80/80 [==============================] - 0s 138us/step - loss: 0.5792 - accuracy: 0.6750\n",
            "Epoch 40/100\n",
            "80/80 [==============================] - 0s 106us/step - loss: 0.5728 - accuracy: 0.6875\n",
            "Epoch 41/100\n",
            "80/80 [==============================] - 0s 148us/step - loss: 0.5668 - accuracy: 0.6875\n",
            "Epoch 42/100\n",
            "80/80 [==============================] - 0s 196us/step - loss: 0.5611 - accuracy: 0.6875\n",
            "Epoch 43/100\n",
            "80/80 [==============================] - 0s 117us/step - loss: 0.5553 - accuracy: 0.7000\n",
            "Epoch 44/100\n",
            "80/80 [==============================] - 0s 113us/step - loss: 0.5501 - accuracy: 0.7000\n",
            "Epoch 45/100\n",
            "80/80 [==============================] - 0s 123us/step - loss: 0.5443 - accuracy: 0.7125\n",
            "Epoch 46/100\n",
            "80/80 [==============================] - 0s 115us/step - loss: 0.5388 - accuracy: 0.7250\n",
            "Epoch 47/100\n",
            "80/80 [==============================] - 0s 120us/step - loss: 0.5344 - accuracy: 0.7250\n",
            "Epoch 48/100\n",
            "80/80 [==============================] - 0s 96us/step - loss: 0.5288 - accuracy: 0.7250\n",
            "Epoch 49/100\n",
            "80/80 [==============================] - 0s 118us/step - loss: 0.5246 - accuracy: 0.7250\n",
            "Epoch 50/100\n",
            "80/80 [==============================] - 0s 107us/step - loss: 0.5199 - accuracy: 0.7250\n",
            "Epoch 51/100\n",
            "80/80 [==============================] - 0s 114us/step - loss: 0.5151 - accuracy: 0.7250\n",
            "Epoch 52/100\n",
            "80/80 [==============================] - 0s 118us/step - loss: 0.5110 - accuracy: 0.7250\n",
            "Epoch 53/100\n",
            "80/80 [==============================] - 0s 125us/step - loss: 0.5071 - accuracy: 0.7250\n",
            "Epoch 54/100\n",
            "80/80 [==============================] - 0s 119us/step - loss: 0.5028 - accuracy: 0.7375\n",
            "Epoch 55/100\n",
            "80/80 [==============================] - 0s 163us/step - loss: 0.4986 - accuracy: 0.7375\n",
            "Epoch 56/100\n",
            "80/80 [==============================] - 0s 109us/step - loss: 0.4947 - accuracy: 0.7500\n",
            "Epoch 57/100\n",
            "80/80 [==============================] - 0s 108us/step - loss: 0.4913 - accuracy: 0.7500\n",
            "Epoch 58/100\n",
            "80/80 [==============================] - 0s 118us/step - loss: 0.4874 - accuracy: 0.7500\n",
            "Epoch 59/100\n",
            "80/80 [==============================] - 0s 127us/step - loss: 0.4840 - accuracy: 0.7500\n",
            "Epoch 60/100\n",
            "80/80 [==============================] - 0s 115us/step - loss: 0.4807 - accuracy: 0.7500\n",
            "Epoch 61/100\n",
            "80/80 [==============================] - 0s 97us/step - loss: 0.4768 - accuracy: 0.7500\n",
            "Epoch 62/100\n",
            "80/80 [==============================] - 0s 117us/step - loss: 0.4735 - accuracy: 0.7500\n",
            "Epoch 63/100\n",
            "80/80 [==============================] - 0s 112us/step - loss: 0.4708 - accuracy: 0.7500\n",
            "Epoch 64/100\n",
            "80/80 [==============================] - 0s 100us/step - loss: 0.4672 - accuracy: 0.7500\n",
            "Epoch 65/100\n",
            "80/80 [==============================] - 0s 119us/step - loss: 0.4644 - accuracy: 0.7500\n",
            "Epoch 66/100\n",
            "80/80 [==============================] - 0s 122us/step - loss: 0.4614 - accuracy: 0.7625\n",
            "Epoch 67/100\n",
            "80/80 [==============================] - 0s 104us/step - loss: 0.4586 - accuracy: 0.7625\n",
            "Epoch 68/100\n",
            "80/80 [==============================] - 0s 96us/step - loss: 0.4559 - accuracy: 0.7625\n",
            "Epoch 69/100\n",
            "80/80 [==============================] - 0s 160us/step - loss: 0.4533 - accuracy: 0.7625\n",
            "Epoch 70/100\n",
            "80/80 [==============================] - 0s 148us/step - loss: 0.4507 - accuracy: 0.7625\n",
            "Epoch 71/100\n",
            "80/80 [==============================] - 0s 129us/step - loss: 0.4484 - accuracy: 0.7625\n",
            "Epoch 72/100\n",
            "80/80 [==============================] - 0s 126us/step - loss: 0.4461 - accuracy: 0.7625\n",
            "Epoch 73/100\n",
            "80/80 [==============================] - 0s 113us/step - loss: 0.4438 - accuracy: 0.7625\n",
            "Epoch 74/100\n",
            "80/80 [==============================] - 0s 111us/step - loss: 0.4415 - accuracy: 0.7625\n",
            "Epoch 75/100\n",
            "80/80 [==============================] - 0s 114us/step - loss: 0.4398 - accuracy: 0.7750\n",
            "Epoch 76/100\n",
            "80/80 [==============================] - 0s 99us/step - loss: 0.4375 - accuracy: 0.7750\n",
            "Epoch 77/100\n",
            "80/80 [==============================] - 0s 123us/step - loss: 0.4356 - accuracy: 0.7750\n",
            "Epoch 78/100\n",
            "80/80 [==============================] - 0s 107us/step - loss: 0.4338 - accuracy: 0.7750\n",
            "Epoch 79/100\n",
            "80/80 [==============================] - 0s 102us/step - loss: 0.4319 - accuracy: 0.7750\n",
            "Epoch 80/100\n",
            "80/80 [==============================] - 0s 106us/step - loss: 0.4303 - accuracy: 0.7875\n",
            "Epoch 81/100\n",
            "80/80 [==============================] - 0s 107us/step - loss: 0.4285 - accuracy: 0.7875\n",
            "Epoch 82/100\n",
            "80/80 [==============================] - 0s 101us/step - loss: 0.4268 - accuracy: 0.7875\n",
            "Epoch 83/100\n",
            "80/80 [==============================] - 0s 116us/step - loss: 0.4251 - accuracy: 0.7875\n",
            "Epoch 84/100\n",
            "80/80 [==============================] - 0s 137us/step - loss: 0.4234 - accuracy: 0.7875\n",
            "Epoch 85/100\n",
            "80/80 [==============================] - 0s 176us/step - loss: 0.4219 - accuracy: 0.7875\n",
            "Epoch 86/100\n",
            "80/80 [==============================] - 0s 118us/step - loss: 0.4205 - accuracy: 0.7875\n",
            "Epoch 87/100\n",
            "80/80 [==============================] - 0s 112us/step - loss: 0.4190 - accuracy: 0.7875\n",
            "Epoch 88/100\n",
            "80/80 [==============================] - 0s 102us/step - loss: 0.4174 - accuracy: 0.7875\n",
            "Epoch 89/100\n",
            "80/80 [==============================] - 0s 125us/step - loss: 0.4161 - accuracy: 0.8000\n",
            "Epoch 90/100\n",
            "80/80 [==============================] - 0s 119us/step - loss: 0.4146 - accuracy: 0.8000\n",
            "Epoch 91/100\n",
            "80/80 [==============================] - 0s 103us/step - loss: 0.4132 - accuracy: 0.8000\n",
            "Epoch 92/100\n",
            "80/80 [==============================] - 0s 91us/step - loss: 0.4119 - accuracy: 0.8000\n",
            "Epoch 93/100\n",
            "80/80 [==============================] - 0s 124us/step - loss: 0.4108 - accuracy: 0.8000\n",
            "Epoch 94/100\n",
            "80/80 [==============================] - 0s 118us/step - loss: 0.4093 - accuracy: 0.8000\n",
            "Epoch 95/100\n",
            "80/80 [==============================] - 0s 134us/step - loss: 0.4079 - accuracy: 0.8000\n",
            "Epoch 96/100\n",
            "80/80 [==============================] - 0s 149us/step - loss: 0.4067 - accuracy: 0.8000\n",
            "Epoch 97/100\n",
            "80/80 [==============================] - 0s 115us/step - loss: 0.4055 - accuracy: 0.8000\n",
            "Epoch 98/100\n",
            "80/80 [==============================] - 0s 119us/step - loss: 0.4043 - accuracy: 0.8000\n",
            "Epoch 99/100\n",
            "80/80 [==============================] - 0s 126us/step - loss: 0.4031 - accuracy: 0.8000\n",
            "Epoch 100/100\n",
            "80/80 [==============================] - 0s 128us/step - loss: 0.4019 - accuracy: 0.8000\n"
          ],
          "name": "stdout"
        },
        {
          "output_type": "execute_result",
          "data": {
            "text/plain": [
              "<keras.callbacks.callbacks.History at 0x7f5c6aeb7390>"
            ]
          },
          "metadata": {
            "tags": []
          },
          "execution_count": 436
        }
      ]
    },
    {
      "cell_type": "code",
      "metadata": {
        "id": "5emwUroSorVc",
        "colab_type": "code",
        "outputId": "0bf16033-ff6b-49cf-b39b-fd7836b84e96",
        "colab": {
          "base_uri": "https://localhost:8080/",
          "height": 50
        }
      },
      "source": [
        "nn_simple_model.metrics_names  #['loss', 'accuracy']\n",
        "nn_simple_model.evaluate(x=X_test_scaled, y=Y_test)"
      ],
      "execution_count": 437,
      "outputs": [
        {
          "output_type": "stream",
          "text": [
            "115/115 [==============================] - 0s 164us/step\n"
          ],
          "name": "stdout"
        },
        {
          "output_type": "execute_result",
          "data": {
            "text/plain": [
              "[0.8526409688203231, 0.539130449295044]"
            ]
          },
          "metadata": {
            "tags": []
          },
          "execution_count": 437
        }
      ]
    },
    {
      "cell_type": "code",
      "metadata": {
        "id": "nupQU5SDrKKx",
        "colab_type": "code",
        "outputId": "596a088b-a069-454d-cc21-7d80151bca25",
        "colab": {
          "base_uri": "https://localhost:8080/",
          "height": 1000
        }
      },
      "source": [
        "nn_deep_model =  Sequential ([\n",
        "                              Dense(10, activation= 'relu', input_dim =22),\n",
        "                              Dropout(0.2),\n",
        "                              Dense(5, activation = 'relu'),\n",
        "                              Dropout(0.2),\n",
        "                              Dense(1, activation = 'sigmoid'),\n",
        "                              ])\n",
        "nn_deep_model.compile(loss='binary_crossentropy', optimizer='adam', metrics=['accuracy'])\n",
        "nn_deep_model.fit(X_train_scaled, Y_train, epochs=100)"
      ],
      "execution_count": 438,
      "outputs": [
        {
          "output_type": "stream",
          "text": [
            "Epoch 1/100\n",
            "80/80 [==============================] - 0s 2ms/step - loss: 0.9763 - accuracy: 0.4375\n",
            "Epoch 2/100\n",
            "80/80 [==============================] - 0s 144us/step - loss: 0.8364 - accuracy: 0.4500\n",
            "Epoch 3/100\n",
            "80/80 [==============================] - 0s 144us/step - loss: 0.8899 - accuracy: 0.4000\n",
            "Epoch 4/100\n",
            "80/80 [==============================] - 0s 148us/step - loss: 0.7978 - accuracy: 0.4625\n",
            "Epoch 5/100\n",
            "80/80 [==============================] - 0s 148us/step - loss: 0.8296 - accuracy: 0.4750\n",
            "Epoch 6/100\n",
            "80/80 [==============================] - 0s 154us/step - loss: 0.8102 - accuracy: 0.4500\n",
            "Epoch 7/100\n",
            "80/80 [==============================] - 0s 144us/step - loss: 0.7242 - accuracy: 0.5000\n",
            "Epoch 8/100\n",
            "80/80 [==============================] - 0s 148us/step - loss: 0.7422 - accuracy: 0.5000\n",
            "Epoch 9/100\n",
            "80/80 [==============================] - 0s 133us/step - loss: 0.6947 - accuracy: 0.4750\n",
            "Epoch 10/100\n",
            "80/80 [==============================] - 0s 227us/step - loss: 0.7076 - accuracy: 0.4250\n",
            "Epoch 11/100\n",
            "80/80 [==============================] - 0s 141us/step - loss: 0.6536 - accuracy: 0.5000\n",
            "Epoch 12/100\n",
            "80/80 [==============================] - 0s 138us/step - loss: 0.6678 - accuracy: 0.5000\n",
            "Epoch 13/100\n",
            "80/80 [==============================] - 0s 183us/step - loss: 0.6643 - accuracy: 0.5625\n",
            "Epoch 14/100\n",
            "80/80 [==============================] - 0s 149us/step - loss: 0.6338 - accuracy: 0.6000\n",
            "Epoch 15/100\n",
            "80/80 [==============================] - 0s 153us/step - loss: 0.6128 - accuracy: 0.5875\n",
            "Epoch 16/100\n",
            "80/80 [==============================] - 0s 157us/step - loss: 0.6188 - accuracy: 0.5875\n",
            "Epoch 17/100\n",
            "80/80 [==============================] - 0s 158us/step - loss: 0.6152 - accuracy: 0.5375\n",
            "Epoch 18/100\n",
            "80/80 [==============================] - 0s 153us/step - loss: 0.6220 - accuracy: 0.5875\n",
            "Epoch 19/100\n",
            "80/80 [==============================] - 0s 131us/step - loss: 0.5724 - accuracy: 0.6375\n",
            "Epoch 20/100\n",
            "80/80 [==============================] - 0s 135us/step - loss: 0.5814 - accuracy: 0.6250\n",
            "Epoch 21/100\n",
            "80/80 [==============================] - 0s 133us/step - loss: 0.5677 - accuracy: 0.6500\n",
            "Epoch 22/100\n",
            "80/80 [==============================] - 0s 146us/step - loss: 0.5826 - accuracy: 0.6750\n",
            "Epoch 23/100\n",
            "80/80 [==============================] - 0s 158us/step - loss: 0.5750 - accuracy: 0.5875\n",
            "Epoch 24/100\n",
            "80/80 [==============================] - 0s 154us/step - loss: 0.5483 - accuracy: 0.7250\n",
            "Epoch 25/100\n",
            "80/80 [==============================] - 0s 194us/step - loss: 0.5347 - accuracy: 0.6750\n",
            "Epoch 26/100\n",
            "80/80 [==============================] - 0s 169us/step - loss: 0.5606 - accuracy: 0.7000\n",
            "Epoch 27/100\n",
            "80/80 [==============================] - 0s 174us/step - loss: 0.5339 - accuracy: 0.7250\n",
            "Epoch 28/100\n",
            "80/80 [==============================] - 0s 178us/step - loss: 0.5420 - accuracy: 0.7250\n",
            "Epoch 29/100\n",
            "80/80 [==============================] - 0s 188us/step - loss: 0.5425 - accuracy: 0.7250\n",
            "Epoch 30/100\n",
            "80/80 [==============================] - 0s 171us/step - loss: 0.5434 - accuracy: 0.7000\n",
            "Epoch 31/100\n",
            "80/80 [==============================] - 0s 147us/step - loss: 0.5443 - accuracy: 0.7500\n",
            "Epoch 32/100\n",
            "80/80 [==============================] - 0s 165us/step - loss: 0.5362 - accuracy: 0.7625\n",
            "Epoch 33/100\n",
            "80/80 [==============================] - 0s 135us/step - loss: 0.5249 - accuracy: 0.7500\n",
            "Epoch 34/100\n",
            "80/80 [==============================] - 0s 132us/step - loss: 0.4963 - accuracy: 0.7500\n",
            "Epoch 35/100\n",
            "80/80 [==============================] - 0s 148us/step - loss: 0.5194 - accuracy: 0.7375\n",
            "Epoch 36/100\n",
            "80/80 [==============================] - 0s 144us/step - loss: 0.5019 - accuracy: 0.7500\n",
            "Epoch 37/100\n",
            "80/80 [==============================] - 0s 168us/step - loss: 0.4830 - accuracy: 0.7875\n",
            "Epoch 38/100\n",
            "80/80 [==============================] - 0s 184us/step - loss: 0.5077 - accuracy: 0.7625\n",
            "Epoch 39/100\n",
            "80/80 [==============================] - 0s 164us/step - loss: 0.4793 - accuracy: 0.7875\n",
            "Epoch 40/100\n",
            "80/80 [==============================] - 0s 164us/step - loss: 0.4873 - accuracy: 0.7625\n",
            "Epoch 41/100\n",
            "80/80 [==============================] - 0s 136us/step - loss: 0.4860 - accuracy: 0.8125\n",
            "Epoch 42/100\n",
            "80/80 [==============================] - 0s 147us/step - loss: 0.4665 - accuracy: 0.8000\n",
            "Epoch 43/100\n",
            "80/80 [==============================] - 0s 169us/step - loss: 0.4616 - accuracy: 0.7875\n",
            "Epoch 44/100\n",
            "80/80 [==============================] - 0s 174us/step - loss: 0.4732 - accuracy: 0.7250\n",
            "Epoch 45/100\n",
            "80/80 [==============================] - 0s 209us/step - loss: 0.4582 - accuracy: 0.8250\n",
            "Epoch 46/100\n",
            "80/80 [==============================] - 0s 212us/step - loss: 0.4536 - accuracy: 0.7875\n",
            "Epoch 47/100\n",
            "80/80 [==============================] - 0s 217us/step - loss: 0.4744 - accuracy: 0.7625\n",
            "Epoch 48/100\n",
            "80/80 [==============================] - 0s 189us/step - loss: 0.4474 - accuracy: 0.7875\n",
            "Epoch 49/100\n",
            "80/80 [==============================] - 0s 162us/step - loss: 0.4809 - accuracy: 0.8125\n",
            "Epoch 50/100\n",
            "80/80 [==============================] - 0s 169us/step - loss: 0.4547 - accuracy: 0.8375\n",
            "Epoch 51/100\n",
            "80/80 [==============================] - 0s 164us/step - loss: 0.4313 - accuracy: 0.7875\n",
            "Epoch 52/100\n",
            "80/80 [==============================] - 0s 161us/step - loss: 0.4390 - accuracy: 0.8250\n",
            "Epoch 53/100\n",
            "80/80 [==============================] - 0s 155us/step - loss: 0.4434 - accuracy: 0.8250\n",
            "Epoch 54/100\n",
            "80/80 [==============================] - 0s 169us/step - loss: 0.4194 - accuracy: 0.8375\n",
            "Epoch 55/100\n",
            "80/80 [==============================] - 0s 201us/step - loss: 0.4100 - accuracy: 0.8625\n",
            "Epoch 56/100\n",
            "80/80 [==============================] - 0s 162us/step - loss: 0.3975 - accuracy: 0.8375\n",
            "Epoch 57/100\n",
            "80/80 [==============================] - 0s 168us/step - loss: 0.4698 - accuracy: 0.7875\n",
            "Epoch 58/100\n",
            "80/80 [==============================] - 0s 162us/step - loss: 0.4305 - accuracy: 0.8250\n",
            "Epoch 59/100\n",
            "80/80 [==============================] - 0s 136us/step - loss: 0.3840 - accuracy: 0.8625\n",
            "Epoch 60/100\n",
            "80/80 [==============================] - 0s 135us/step - loss: 0.4180 - accuracy: 0.7750\n",
            "Epoch 61/100\n",
            "80/80 [==============================] - 0s 163us/step - loss: 0.3892 - accuracy: 0.8375\n",
            "Epoch 62/100\n",
            "80/80 [==============================] - 0s 154us/step - loss: 0.4224 - accuracy: 0.8125\n",
            "Epoch 63/100\n",
            "80/80 [==============================] - 0s 162us/step - loss: 0.4391 - accuracy: 0.7625\n",
            "Epoch 64/100\n",
            "80/80 [==============================] - 0s 164us/step - loss: 0.4055 - accuracy: 0.8250\n",
            "Epoch 65/100\n",
            "80/80 [==============================] - 0s 160us/step - loss: 0.4231 - accuracy: 0.8000\n",
            "Epoch 66/100\n",
            "80/80 [==============================] - 0s 164us/step - loss: 0.4631 - accuracy: 0.7750\n",
            "Epoch 67/100\n",
            "80/80 [==============================] - 0s 157us/step - loss: 0.3918 - accuracy: 0.8250\n",
            "Epoch 68/100\n",
            "80/80 [==============================] - 0s 224us/step - loss: 0.4053 - accuracy: 0.8000\n",
            "Epoch 69/100\n",
            "80/80 [==============================] - 0s 171us/step - loss: 0.4069 - accuracy: 0.8375\n",
            "Epoch 70/100\n",
            "80/80 [==============================] - 0s 198us/step - loss: 0.4029 - accuracy: 0.8375\n",
            "Epoch 71/100\n",
            "80/80 [==============================] - 0s 152us/step - loss: 0.4175 - accuracy: 0.8125\n",
            "Epoch 72/100\n",
            "80/80 [==============================] - 0s 154us/step - loss: 0.4043 - accuracy: 0.8250\n",
            "Epoch 73/100\n",
            "80/80 [==============================] - 0s 146us/step - loss: 0.3763 - accuracy: 0.8125\n",
            "Epoch 74/100\n",
            "80/80 [==============================] - 0s 154us/step - loss: 0.3757 - accuracy: 0.8375\n",
            "Epoch 75/100\n",
            "80/80 [==============================] - 0s 177us/step - loss: 0.4041 - accuracy: 0.8375\n",
            "Epoch 76/100\n",
            "80/80 [==============================] - 0s 207us/step - loss: 0.3620 - accuracy: 0.8250\n",
            "Epoch 77/100\n",
            "80/80 [==============================] - 0s 168us/step - loss: 0.4058 - accuracy: 0.8500\n",
            "Epoch 78/100\n",
            "80/80 [==============================] - 0s 214us/step - loss: 0.3896 - accuracy: 0.8375\n",
            "Epoch 79/100\n",
            "80/80 [==============================] - 0s 168us/step - loss: 0.3847 - accuracy: 0.8125\n",
            "Epoch 80/100\n",
            "80/80 [==============================] - 0s 161us/step - loss: 0.3882 - accuracy: 0.8500\n",
            "Epoch 81/100\n",
            "80/80 [==============================] - 0s 145us/step - loss: 0.3890 - accuracy: 0.8500\n",
            "Epoch 82/100\n",
            "80/80 [==============================] - 0s 154us/step - loss: 0.3684 - accuracy: 0.8125\n",
            "Epoch 83/100\n",
            "80/80 [==============================] - 0s 152us/step - loss: 0.3421 - accuracy: 0.8125\n",
            "Epoch 84/100\n",
            "80/80 [==============================] - 0s 154us/step - loss: 0.3614 - accuracy: 0.8500\n",
            "Epoch 85/100\n",
            "80/80 [==============================] - 0s 154us/step - loss: 0.3816 - accuracy: 0.7875\n",
            "Epoch 86/100\n",
            "80/80 [==============================] - 0s 130us/step - loss: 0.3909 - accuracy: 0.8125\n",
            "Epoch 87/100\n",
            "80/80 [==============================] - 0s 153us/step - loss: 0.3706 - accuracy: 0.8750\n",
            "Epoch 88/100\n",
            "80/80 [==============================] - 0s 144us/step - loss: 0.3774 - accuracy: 0.8500\n",
            "Epoch 89/100\n",
            "80/80 [==============================] - 0s 156us/step - loss: 0.3881 - accuracy: 0.8125\n",
            "Epoch 90/100\n",
            "80/80 [==============================] - 0s 141us/step - loss: 0.3913 - accuracy: 0.8625\n",
            "Epoch 91/100\n",
            "80/80 [==============================] - 0s 147us/step - loss: 0.3646 - accuracy: 0.8625\n",
            "Epoch 92/100\n",
            "80/80 [==============================] - 0s 130us/step - loss: 0.4010 - accuracy: 0.8500\n",
            "Epoch 93/100\n",
            "80/80 [==============================] - 0s 139us/step - loss: 0.3661 - accuracy: 0.8250\n",
            "Epoch 94/100\n",
            "80/80 [==============================] - 0s 154us/step - loss: 0.3850 - accuracy: 0.8500\n",
            "Epoch 95/100\n",
            "80/80 [==============================] - 0s 147us/step - loss: 0.3464 - accuracy: 0.8250\n",
            "Epoch 96/100\n",
            "80/80 [==============================] - 0s 133us/step - loss: 0.4188 - accuracy: 0.8000\n",
            "Epoch 97/100\n",
            "80/80 [==============================] - 0s 158us/step - loss: 0.3905 - accuracy: 0.8000\n",
            "Epoch 98/100\n",
            "80/80 [==============================] - 0s 151us/step - loss: 0.3731 - accuracy: 0.8375\n",
            "Epoch 99/100\n",
            "80/80 [==============================] - 0s 145us/step - loss: 0.3710 - accuracy: 0.8250\n",
            "Epoch 100/100\n",
            "80/80 [==============================] - 0s 150us/step - loss: 0.3923 - accuracy: 0.8625\n"
          ],
          "name": "stdout"
        },
        {
          "output_type": "execute_result",
          "data": {
            "text/plain": [
              "<keras.callbacks.callbacks.History at 0x7f5c6ac5e3c8>"
            ]
          },
          "metadata": {
            "tags": []
          },
          "execution_count": 438
        }
      ]
    },
    {
      "cell_type": "code",
      "metadata": {
        "id": "qQWVB96sr51w",
        "colab_type": "code",
        "outputId": "6ed9d2f0-1af5-4d3e-ab63-2f1c3a352c9b",
        "colab": {
          "base_uri": "https://localhost:8080/",
          "height": 50
        }
      },
      "source": [
        "nn_deep_model.evaluate(x=X_test_scaled, y=Y_test)"
      ],
      "execution_count": 439,
      "outputs": [
        {
          "output_type": "stream",
          "text": [
            "115/115 [==============================] - 0s 259us/step\n"
          ],
          "name": "stdout"
        },
        {
          "output_type": "execute_result",
          "data": {
            "text/plain": [
              "[0.7151720819265946, 0.52173912525177]"
            ]
          },
          "metadata": {
            "tags": []
          },
          "execution_count": 439
        }
      ]
    },
    {
      "cell_type": "code",
      "metadata": {
        "id": "6v0ub5ZX1G6F",
        "colab_type": "code",
        "colab": {}
      },
      "source": [
        ""
      ],
      "execution_count": 0,
      "outputs": []
    },
    {
      "cell_type": "markdown",
      "metadata": {
        "id": "otzMrS73lsmw",
        "colab_type": "text"
      },
      "source": [
        "## Decision Tree"
      ]
    },
    {
      "cell_type": "code",
      "metadata": {
        "id": "8Xgt4pL-mFDb",
        "colab_type": "code",
        "colab": {
          "base_uri": "https://localhost:8080/",
          "height": 722
        },
        "outputId": "0f412a49-0daf-4ad9-c742-1443b3060f52"
      },
      "source": [
        "print(X_train)\n",
        "print(Y_train)\n",
        "print(X_train_scaled)\n",
        "print(Y_train_pred)"
      ],
      "execution_count": 440,
      "outputs": [
        {
          "output_type": "stream",
          "text": [
            "     MDVP:Fo(Hz)  MDVP:Fhi(Hz)  MDVP:Flo(Hz)  ...   spread2        D2       PPE\n",
            "170      244.990       272.210       239.170  ...  0.171088  2.095237  0.096220\n",
            "34       203.184       211.526       196.160  ...  0.163519  1.423287  0.044539\n",
            "167      260.105       264.919       237.303  ...  0.160414  1.881767  0.075587\n",
            "171      112.547       133.374       105.715  ...  0.218885  2.193412  0.160376\n",
            "173      113.715       116.443        96.913  ...  0.192150  1.852542  0.179677\n",
            "..           ...           ...           ...  ...       ...       ...       ...\n",
            "139      116.150       131.731       109.815  ...  0.233070  2.445646  0.184985\n",
            "8         95.730       132.068        91.754  ...  0.327769  2.322511  0.231571\n",
            "68       143.533       162.215        65.809  ...  0.151814  2.118496  0.185580\n",
            "120      128.940       479.697        88.251  ...  0.279933  2.686240  0.152428\n",
            "153      121.345       139.644        98.250  ...  0.246404  2.013530  0.168581\n",
            "\n",
            "[80 rows x 22 columns]\n",
            "170    0\n",
            "34     0\n",
            "167    0\n",
            "171    0\n",
            "173    0\n",
            "      ..\n",
            "139    1\n",
            "8      1\n",
            "68     1\n",
            "120    1\n",
            "153    1\n",
            "Name: status, Length: 80, dtype: int64\n",
            "[[ 1.7410179   0.91401033  2.31828914 ... -0.48383071 -0.56604512\n",
            "  -1.00675701]\n",
            " [ 0.87647946  0.17564657  1.45961972 ... -0.57831928 -2.42989233\n",
            "  -1.66135062]\n",
            " [ 2.05359261  0.82529815  2.28101558 ... -0.61708094 -1.15816576\n",
            "  -1.26809542]\n",
            " ...\n",
            " [-0.35708947 -0.42433787 -1.14276152 ... -0.72444012 -0.50152957\n",
            "   0.12508031]\n",
            " [-0.65886934  3.4385783  -0.69472016 ...  0.87494959  1.07327223\n",
            "  -0.29482424]\n",
            " [-0.81593219 -0.69896724 -0.49509599 ...  0.45638608 -0.79268306\n",
            "  -0.0902297 ]]\n",
            "[0 0 0 0 0 0 0 0 0 0 0 0 0 1 0 0 0 0 0 0 0 0 0 0 0 0 0 0 0 1 0 0 0 0 0 1 0\n",
            " 0 0 0 1 1 1 1 1 1 0 1 1 1 1 1 0 1 1 1 1 0 0 0 1 1 1 1 1 1 1 1 1 1 1 1 1 1\n",
            " 1 1 1 1 1 1]\n"
          ],
          "name": "stdout"
        }
      ]
    },
    {
      "cell_type": "code",
      "metadata": {
        "id": "r7ABMLyvmiHf",
        "colab_type": "code",
        "colab": {
          "base_uri": "https://localhost:8080/",
          "height": 739
        },
        "outputId": "a9ff9ad9-4c13-44ec-bd87-dd184995928a"
      },
      "source": [
        "print(X_test)\n",
        "print(Y_test)\n",
        "print(X_test_scaled)\n",
        "print(Y_test_pred)"
      ],
      "execution_count": 441,
      "outputs": [
        {
          "output_type": "stream",
          "text": [
            "     MDVP:Fo(Hz)  MDVP:Fhi(Hz)  MDVP:Flo(Hz)  ...   spread2        D2       PPE\n",
            "0        119.992       157.302        74.997  ...  0.266482  2.301442  0.284654\n",
            "1        122.400       148.650       113.819  ...  0.335590  2.486855  0.368674\n",
            "2        116.682       131.111       111.555  ...  0.311173  2.342259  0.332634\n",
            "3        116.676       137.871       111.366  ...  0.334147  2.405554  0.368975\n",
            "6        120.267       137.244       114.820  ...  0.257682  1.854785  0.211756\n",
            "..           ...           ...           ...  ...       ...       ...       ...\n",
            "180      150.440       163.441       144.736  ...  0.183218  2.264226  0.144105\n",
            "182      149.818       163.417       144.786  ...  0.109397  2.209021  0.156368\n",
            "186      116.556       592.030        86.228  ...  0.153310  2.161936  0.120605\n",
            "191      209.516       253.017        89.488  ...  0.129303  2.784312  0.168895\n",
            "192      174.688       240.005        74.287  ...  0.158453  2.679772  0.131728\n",
            "\n",
            "[115 rows x 22 columns]\n",
            "0      1\n",
            "1      1\n",
            "2      1\n",
            "3      1\n",
            "6      1\n",
            "      ..\n",
            "180    1\n",
            "182    1\n",
            "186    0\n",
            "191    0\n",
            "192    0\n",
            "Name: status, Length: 115, dtype: int64\n",
            "[[-8.51971915e-01 -4.10160689e-01 -9.80695125e-01 ...  3.40555940e-01\n",
            "  -3.57261836e-01  6.23929331e-01]\n",
            " [-7.82814389e-01 -4.99294663e-01  5.81231744e-02 ...  1.16988525e+00\n",
            "   1.23479861e-01  1.54940889e+00]\n",
            " [-9.47034792e-01 -6.79983610e-01 -2.45805863e-03 ...  8.76869482e-01\n",
            "  -2.51430886e-01  1.15242861e+00]\n",
            " ...\n",
            " [-9.50653500e-01  4.06846093e+00 -6.80170466e-01 ... -1.01756261e+00\n",
            "  -7.18975152e-01 -1.18306896e+00]\n",
            " [ 1.71914865e+00  5.75907078e-01 -5.92937771e-01 ... -1.30565818e+00\n",
            "   8.94730976e-01 -6.51155037e-01]\n",
            " [ 7.18891878e-01  4.41855845e-01 -9.99693657e-01 ... -9.55844133e-01\n",
            "   6.23678045e-01 -1.06054922e+00]]\n",
            "[1 1 1 1 0 1 1 0 0 0 0 0 1 1 1 1 1 1 0 0 0 0 0 0 0 0 0 0 0 1 1 1 1 0 0 0 0\n",
            " 0 1 0 1 1 1 1 0 1 1 1 0 0 1 1 1 1 0 0 0 1 1 1 1 1 0 0 0 0 0 1 1 0 1 1 0 1\n",
            " 1 1 0 0 0 0 0 0 0 0 0 1 1 1 1 0 0 1 1 1 1 1 1 1 1 1 0 1 1 0 1 1 0 0 0 1 0\n",
            " 0 0 0 0]\n"
          ],
          "name": "stdout"
        }
      ]
    },
    {
      "cell_type": "code",
      "metadata": {
        "id": "oIAEDoVdm0dy",
        "colab_type": "code",
        "colab": {
          "base_uri": "https://localhost:8080/",
          "height": 151
        },
        "outputId": "887d18be-4959-4e96-b5d4-47639789bb1d"
      },
      "source": [
        "clf = tree.DecisionTreeClassifier()\n",
        "clf = clf.fit(X_train, Y_train)\n",
        "Y_test_pred = clf.predict(X_test)\n",
        "print(Y_test.to_numpy())\n",
        "print(Y_test_pred)"
      ],
      "execution_count": 442,
      "outputs": [
        {
          "output_type": "stream",
          "text": [
            "[1 1 1 1 1 1 1 1 1 1 1 1 1 1 1 1 1 1 1 1 1 0 0 1 1 1 1 1 0 1 1 1 1 0 0 1 1\n",
            " 1 1 1 1 1 1 1 1 1 1 1 1 1 1 1 1 1 1 1 1 1 1 1 1 1 1 1 1 1 1 1 1 1 1 1 1 1\n",
            " 1 1 1 1 1 1 1 1 1 1 1 1 1 1 1 1 1 1 1 1 1 1 1 1 1 1 1 1 1 1 1 1 1 1 1 1 1\n",
            " 1 0 0 0]\n",
            "[1 1 1 1 0 1 1 0 0 0 0 1 1 1 1 1 1 1 0 1 1 0 0 1 1 0 0 0 0 1 1 1 1 0 1 1 1\n",
            " 1 1 0 1 1 0 1 0 1 1 1 1 1 1 1 1 0 1 1 0 1 1 1 1 1 0 0 1 1 1 1 1 0 0 0 1 1\n",
            " 1 1 1 0 1 1 0 0 1 1 0 1 1 1 1 0 1 1 1 1 1 1 1 1 1 1 0 1 1 1 1 1 0 0 0 1 1\n",
            " 0 0 1 0]\n"
          ],
          "name": "stdout"
        }
      ]
    },
    {
      "cell_type": "code",
      "metadata": {
        "id": "6lIOj5AJoVyE",
        "colab_type": "code",
        "colab": {}
      },
      "source": [
        "# tree.plot_tree(clf)"
      ],
      "execution_count": 0,
      "outputs": []
    },
    {
      "cell_type": "code",
      "metadata": {
        "id": "8bEFgEFTrS--",
        "colab_type": "code",
        "colab": {
          "base_uri": "https://localhost:8080/",
          "height": 50
        },
        "outputId": "00ff67e2-fe7c-407c-f518-cbc95d8c71bb"
      },
      "source": [
        "confusion_matrix(Y_test.to_numpy(), Y_test_pred)"
      ],
      "execution_count": 444,
      "outputs": [
        {
          "output_type": "execute_result",
          "data": {
            "text/plain": [
              "array([[ 6,  2],\n",
              "       [29, 78]])"
            ]
          },
          "metadata": {
            "tags": []
          },
          "execution_count": 444
        }
      ]
    },
    {
      "cell_type": "code",
      "metadata": {
        "id": "-YlNSSDXrpGH",
        "colab_type": "code",
        "colab": {
          "base_uri": "https://localhost:8080/",
          "height": 34
        },
        "outputId": "5eb918d3-6ed2-48fb-838d-6652ef5e8c44"
      },
      "source": [
        "mean_squared_error(Y_test.to_numpy(), Y_test_pred, squared=False) # RMSE"
      ],
      "execution_count": 448,
      "outputs": [
        {
          "output_type": "execute_result",
          "data": {
            "text/plain": [
              "0.5191967039488062"
            ]
          },
          "metadata": {
            "tags": []
          },
          "execution_count": 448
        }
      ]
    },
    {
      "cell_type": "code",
      "metadata": {
        "id": "kz9KWSQjrx6r",
        "colab_type": "code",
        "colab": {
          "base_uri": "https://localhost:8080/",
          "height": 34
        },
        "outputId": "a1f5c6c8-c0c9-4c09-eb3b-ff0115657127"
      },
      "source": [
        "mean_squared_error(Y_test.to_numpy(), Y_test_pred, squared=True) # MSE"
      ],
      "execution_count": 449,
      "outputs": [
        {
          "output_type": "execute_result",
          "data": {
            "text/plain": [
              "0.26956521739130435"
            ]
          },
          "metadata": {
            "tags": []
          },
          "execution_count": 449
        }
      ]
    },
    {
      "cell_type": "code",
      "metadata": {
        "id": "cz4RA5lcpNER",
        "colab_type": "code",
        "colab": {
          "base_uri": "https://localhost:8080/",
          "height": 1000
        },
        "outputId": "c1ec61e3-d946-4c50-9d7e-727a4978f3c8"
      },
      "source": [
        "dot_data = tree.export_graphviz(\n",
        "    clf, \n",
        "    out_file=None, \n",
        "    feature_names=X_train.columns, \n",
        "    class_names=[str(num) for num in Y_train.unique()],\n",
        "    filled=True, rounded=True, special_characters=True\n",
        ")\n",
        "graph = graphviz.Source(dot_data)\n",
        "graph"
      ],
      "execution_count": 447,
      "outputs": [
        {
          "output_type": "execute_result",
          "data": {
            "text/plain": [
              "<graphviz.files.Source at 0x7f5c6a9aa5c0>"
            ],
            "image/svg+xml": "<?xml version=\"1.0\" encoding=\"UTF-8\" standalone=\"no\"?>\n<!DOCTYPE svg PUBLIC \"-//W3C//DTD SVG 1.1//EN\"\n \"http://www.w3.org/Graphics/SVG/1.1/DTD/svg11.dtd\">\n<!-- Generated by graphviz version 2.40.1 (20161225.0304)\n -->\n<!-- Title: Tree Pages: 1 -->\n<svg width=\"980pt\" height=\"790pt\"\n viewBox=\"0.00 0.00 980.00 790.00\" xmlns=\"http://www.w3.org/2000/svg\" xmlns:xlink=\"http://www.w3.org/1999/xlink\">\n<g id=\"graph0\" class=\"graph\" transform=\"scale(1 1) rotate(0) translate(4 786)\">\n<title>Tree</title>\n<polygon fill=\"#ffffff\" stroke=\"transparent\" points=\"-4,4 -4,-786 976,-786 976,4 -4,4\"/>\n<!-- 0 -->\n<g id=\"node1\" class=\"node\">\n<title>0</title>\n<path fill=\"#ffffff\" stroke=\"#000000\" d=\"M555,-782C555,-782 434,-782 434,-782 428,-782 422,-776 422,-770 422,-770 422,-711 422,-711 422,-705 428,-699 434,-699 434,-699 555,-699 555,-699 561,-699 567,-705 567,-711 567,-711 567,-770 567,-770 567,-776 561,-782 555,-782\"/>\n<text text-anchor=\"start\" x=\"430\" y=\"-766.8\" font-family=\"Helvetica,sans-Serif\" font-size=\"14.00\" fill=\"#000000\">MDVP:APQ ≤ 0.018</text>\n<text text-anchor=\"start\" x=\"465\" y=\"-751.8\" font-family=\"Helvetica,sans-Serif\" font-size=\"14.00\" fill=\"#000000\">gini = 0.5</text>\n<text text-anchor=\"start\" x=\"450.5\" y=\"-736.8\" font-family=\"Helvetica,sans-Serif\" font-size=\"14.00\" fill=\"#000000\">samples = 80</text>\n<text text-anchor=\"start\" x=\"444.5\" y=\"-721.8\" font-family=\"Helvetica,sans-Serif\" font-size=\"14.00\" fill=\"#000000\">value = [40, 40]</text>\n<text text-anchor=\"start\" x=\"465.5\" y=\"-706.8\" font-family=\"Helvetica,sans-Serif\" font-size=\"14.00\" fill=\"#000000\">class = 0</text>\n</g>\n<!-- 1 -->\n<g id=\"node2\" class=\"node\">\n<title>1</title>\n<path fill=\"#eca36f\" stroke=\"#000000\" d=\"M459.5,-663C459.5,-663 367.5,-663 367.5,-663 361.5,-663 355.5,-657 355.5,-651 355.5,-651 355.5,-592 355.5,-592 355.5,-586 361.5,-580 367.5,-580 367.5,-580 459.5,-580 459.5,-580 465.5,-580 471.5,-586 471.5,-592 471.5,-592 471.5,-651 471.5,-651 471.5,-657 465.5,-663 459.5,-663\"/>\n<text text-anchor=\"start\" x=\"378\" y=\"-647.8\" font-family=\"Helvetica,sans-Serif\" font-size=\"14.00\" fill=\"#000000\">D2 ≤ 2.475</text>\n<text text-anchor=\"start\" x=\"375.5\" y=\"-632.8\" font-family=\"Helvetica,sans-Serif\" font-size=\"14.00\" fill=\"#000000\">gini = 0.335</text>\n<text text-anchor=\"start\" x=\"369.5\" y=\"-617.8\" font-family=\"Helvetica,sans-Serif\" font-size=\"14.00\" fill=\"#000000\">samples = 47</text>\n<text text-anchor=\"start\" x=\"363.5\" y=\"-602.8\" font-family=\"Helvetica,sans-Serif\" font-size=\"14.00\" fill=\"#000000\">value = [37, 10]</text>\n<text text-anchor=\"start\" x=\"384.5\" y=\"-587.8\" font-family=\"Helvetica,sans-Serif\" font-size=\"14.00\" fill=\"#000000\">class = 0</text>\n</g>\n<!-- 0&#45;&gt;1 -->\n<g id=\"edge1\" class=\"edge\">\n<title>0&#45;&gt;1</title>\n<path fill=\"none\" stroke=\"#000000\" d=\"M466.1701,-698.8796C460.2237,-690.1434 453.8914,-680.8404 447.755,-671.8253\"/>\n<polygon fill=\"#000000\" stroke=\"#000000\" points=\"450.4711,-669.5953 441.9508,-663.2981 444.6844,-673.5342 450.4711,-669.5953\"/>\n<text text-anchor=\"middle\" x=\"437.2843\" y=\"-684.1587\" font-family=\"Helvetica,sans-Serif\" font-size=\"14.00\" fill=\"#000000\">True</text>\n</g>\n<!-- 14 -->\n<g id=\"node15\" class=\"node\">\n<title>14</title>\n<path fill=\"#4da7e8\" stroke=\"#000000\" d=\"M635.5,-663C635.5,-663 549.5,-663 549.5,-663 543.5,-663 537.5,-657 537.5,-651 537.5,-651 537.5,-592 537.5,-592 537.5,-586 543.5,-580 549.5,-580 549.5,-580 635.5,-580 635.5,-580 641.5,-580 647.5,-586 647.5,-592 647.5,-592 647.5,-651 647.5,-651 647.5,-657 641.5,-663 635.5,-663\"/>\n<text text-anchor=\"start\" x=\"545.5\" y=\"-647.8\" font-family=\"Helvetica,sans-Serif\" font-size=\"14.00\" fill=\"#000000\">spread1 ≤ &#45;6.4</text>\n<text text-anchor=\"start\" x=\"554.5\" y=\"-632.8\" font-family=\"Helvetica,sans-Serif\" font-size=\"14.00\" fill=\"#000000\">gini = 0.165</text>\n<text text-anchor=\"start\" x=\"548.5\" y=\"-617.8\" font-family=\"Helvetica,sans-Serif\" font-size=\"14.00\" fill=\"#000000\">samples = 33</text>\n<text text-anchor=\"start\" x=\"547\" y=\"-602.8\" font-family=\"Helvetica,sans-Serif\" font-size=\"14.00\" fill=\"#000000\">value = [3, 30]</text>\n<text text-anchor=\"start\" x=\"563.5\" y=\"-587.8\" font-family=\"Helvetica,sans-Serif\" font-size=\"14.00\" fill=\"#000000\">class = 1</text>\n</g>\n<!-- 0&#45;&gt;14 -->\n<g id=\"edge14\" class=\"edge\">\n<title>0&#45;&gt;14</title>\n<path fill=\"none\" stroke=\"#000000\" d=\"M528.7756,-698.8796C536.1184,-689.9633 543.9476,-680.4565 551.5146,-671.268\"/>\n<polygon fill=\"#000000\" stroke=\"#000000\" points=\"554.4227,-673.2424 558.0781,-663.2981 549.0192,-668.7924 554.4227,-673.2424\"/>\n<text text-anchor=\"middle\" x=\"560.4862\" y=\"-684.4818\" font-family=\"Helvetica,sans-Serif\" font-size=\"14.00\" fill=\"#000000\">False</text>\n</g>\n<!-- 2 -->\n<g id=\"node3\" class=\"node\">\n<title>2</title>\n<path fill=\"#e88f50\" stroke=\"#000000\" d=\"M265,-544C265,-544 114,-544 114,-544 108,-544 102,-538 102,-532 102,-532 102,-473 102,-473 102,-467 108,-461 114,-461 114,-461 265,-461 265,-461 271,-461 277,-467 277,-473 277,-473 277,-532 277,-532 277,-538 271,-544 265,-544\"/>\n<text text-anchor=\"start\" x=\"110\" y=\"-528.8\" font-family=\"Helvetica,sans-Serif\" font-size=\"14.00\" fill=\"#000000\">MDVP:Fo(Hz) ≤ 109.035</text>\n<text text-anchor=\"start\" x=\"151.5\" y=\"-513.8\" font-family=\"Helvetica,sans-Serif\" font-size=\"14.00\" fill=\"#000000\">gini = 0.184</text>\n<text text-anchor=\"start\" x=\"145.5\" y=\"-498.8\" font-family=\"Helvetica,sans-Serif\" font-size=\"14.00\" fill=\"#000000\">samples = 39</text>\n<text text-anchor=\"start\" x=\"144\" y=\"-483.8\" font-family=\"Helvetica,sans-Serif\" font-size=\"14.00\" fill=\"#000000\">value = [35, 4]</text>\n<text text-anchor=\"start\" x=\"160.5\" y=\"-468.8\" font-family=\"Helvetica,sans-Serif\" font-size=\"14.00\" fill=\"#000000\">class = 0</text>\n</g>\n<!-- 1&#45;&gt;2 -->\n<g id=\"edge2\" class=\"edge\">\n<title>1&#45;&gt;2</title>\n<path fill=\"none\" stroke=\"#000000\" d=\"M355.2314,-590.5448C331.2398,-577.7993 302.9374,-562.7636 276.5757,-548.7589\"/>\n<polygon fill=\"#000000\" stroke=\"#000000\" points=\"278.1922,-545.6545 267.719,-544.0538 274.9081,-551.8364 278.1922,-545.6545\"/>\n</g>\n<!-- 11 -->\n<g id=\"node12\" class=\"node\">\n<title>11</title>\n<path fill=\"#7bbeee\" stroke=\"#000000\" d=\"M474,-544C474,-544 353,-544 353,-544 347,-544 341,-538 341,-532 341,-532 341,-473 341,-473 341,-467 347,-461 353,-461 353,-461 474,-461 474,-461 480,-461 486,-467 486,-473 486,-473 486,-532 486,-532 486,-538 480,-544 474,-544\"/>\n<text text-anchor=\"start\" x=\"349\" y=\"-528.8\" font-family=\"Helvetica,sans-Serif\" font-size=\"14.00\" fill=\"#000000\">MDVP:PPQ ≤ 0.003</text>\n<text text-anchor=\"start\" x=\"375.5\" y=\"-513.8\" font-family=\"Helvetica,sans-Serif\" font-size=\"14.00\" fill=\"#000000\">gini = 0.375</text>\n<text text-anchor=\"start\" x=\"374\" y=\"-498.8\" font-family=\"Helvetica,sans-Serif\" font-size=\"14.00\" fill=\"#000000\">samples = 8</text>\n<text text-anchor=\"start\" x=\"372\" y=\"-483.8\" font-family=\"Helvetica,sans-Serif\" font-size=\"14.00\" fill=\"#000000\">value = [2, 6]</text>\n<text text-anchor=\"start\" x=\"384.5\" y=\"-468.8\" font-family=\"Helvetica,sans-Serif\" font-size=\"14.00\" fill=\"#000000\">class = 1</text>\n</g>\n<!-- 1&#45;&gt;11 -->\n<g id=\"edge11\" class=\"edge\">\n<title>1&#45;&gt;11</title>\n<path fill=\"none\" stroke=\"#000000\" d=\"M413.5,-579.8796C413.5,-571.6838 413.5,-562.9891 413.5,-554.5013\"/>\n<polygon fill=\"#000000\" stroke=\"#000000\" points=\"417.0001,-554.298 413.5,-544.2981 410.0001,-554.2981 417.0001,-554.298\"/>\n</g>\n<!-- 3 -->\n<g id=\"node4\" class=\"node\">\n<title>3</title>\n<path fill=\"#399de5\" stroke=\"#000000\" d=\"M87,-417.5C87,-417.5 12,-417.5 12,-417.5 6,-417.5 0,-411.5 0,-405.5 0,-405.5 0,-361.5 0,-361.5 0,-355.5 6,-349.5 12,-349.5 12,-349.5 87,-349.5 87,-349.5 93,-349.5 99,-355.5 99,-361.5 99,-361.5 99,-405.5 99,-405.5 99,-411.5 93,-417.5 87,-417.5\"/>\n<text text-anchor=\"start\" x=\"20\" y=\"-402.3\" font-family=\"Helvetica,sans-Serif\" font-size=\"14.00\" fill=\"#000000\">gini = 0.0</text>\n<text text-anchor=\"start\" x=\"10\" y=\"-387.3\" font-family=\"Helvetica,sans-Serif\" font-size=\"14.00\" fill=\"#000000\">samples = 2</text>\n<text text-anchor=\"start\" x=\"8\" y=\"-372.3\" font-family=\"Helvetica,sans-Serif\" font-size=\"14.00\" fill=\"#000000\">value = [0, 2]</text>\n<text text-anchor=\"start\" x=\"20.5\" y=\"-357.3\" font-family=\"Helvetica,sans-Serif\" font-size=\"14.00\" fill=\"#000000\">class = 1</text>\n</g>\n<!-- 2&#45;&gt;3 -->\n<g id=\"edge3\" class=\"edge\">\n<title>2&#45;&gt;3</title>\n<path fill=\"none\" stroke=\"#000000\" d=\"M140.5348,-460.8796C126.6927,-449.1138 111.6408,-436.3197 97.8359,-424.5855\"/>\n<polygon fill=\"#000000\" stroke=\"#000000\" points=\"99.7567,-421.6247 89.8705,-417.8149 95.2231,-426.9582 99.7567,-421.6247\"/>\n</g>\n<!-- 4 -->\n<g id=\"node5\" class=\"node\">\n<title>4</title>\n<path fill=\"#e68844\" stroke=\"#000000\" d=\"M250,-425C250,-425 129,-425 129,-425 123,-425 117,-419 117,-413 117,-413 117,-354 117,-354 117,-348 123,-342 129,-342 129,-342 250,-342 250,-342 256,-342 262,-348 262,-354 262,-354 262,-413 262,-413 262,-419 256,-425 250,-425\"/>\n<text text-anchor=\"start\" x=\"125\" y=\"-409.8\" font-family=\"Helvetica,sans-Serif\" font-size=\"14.00\" fill=\"#000000\">MDVP:PPQ ≤ 0.001</text>\n<text text-anchor=\"start\" x=\"151.5\" y=\"-394.8\" font-family=\"Helvetica,sans-Serif\" font-size=\"14.00\" fill=\"#000000\">gini = 0.102</text>\n<text text-anchor=\"start\" x=\"145.5\" y=\"-379.8\" font-family=\"Helvetica,sans-Serif\" font-size=\"14.00\" fill=\"#000000\">samples = 37</text>\n<text text-anchor=\"start\" x=\"144\" y=\"-364.8\" font-family=\"Helvetica,sans-Serif\" font-size=\"14.00\" fill=\"#000000\">value = [35, 2]</text>\n<text text-anchor=\"start\" x=\"160.5\" y=\"-349.8\" font-family=\"Helvetica,sans-Serif\" font-size=\"14.00\" fill=\"#000000\">class = 0</text>\n</g>\n<!-- 2&#45;&gt;4 -->\n<g id=\"edge4\" class=\"edge\">\n<title>2&#45;&gt;4</title>\n<path fill=\"none\" stroke=\"#000000\" d=\"M189.5,-460.8796C189.5,-452.6838 189.5,-443.9891 189.5,-435.5013\"/>\n<polygon fill=\"#000000\" stroke=\"#000000\" points=\"193.0001,-435.298 189.5,-425.2981 186.0001,-435.2981 193.0001,-435.298\"/>\n</g>\n<!-- 5 -->\n<g id=\"node6\" class=\"node\">\n<title>5</title>\n<path fill=\"#399de5\" stroke=\"#000000\" d=\"M163,-298.5C163,-298.5 88,-298.5 88,-298.5 82,-298.5 76,-292.5 76,-286.5 76,-286.5 76,-242.5 76,-242.5 76,-236.5 82,-230.5 88,-230.5 88,-230.5 163,-230.5 163,-230.5 169,-230.5 175,-236.5 175,-242.5 175,-242.5 175,-286.5 175,-286.5 175,-292.5 169,-298.5 163,-298.5\"/>\n<text text-anchor=\"start\" x=\"96\" y=\"-283.3\" font-family=\"Helvetica,sans-Serif\" font-size=\"14.00\" fill=\"#000000\">gini = 0.0</text>\n<text text-anchor=\"start\" x=\"86\" y=\"-268.3\" font-family=\"Helvetica,sans-Serif\" font-size=\"14.00\" fill=\"#000000\">samples = 1</text>\n<text text-anchor=\"start\" x=\"84\" y=\"-253.3\" font-family=\"Helvetica,sans-Serif\" font-size=\"14.00\" fill=\"#000000\">value = [0, 1]</text>\n<text text-anchor=\"start\" x=\"96.5\" y=\"-238.3\" font-family=\"Helvetica,sans-Serif\" font-size=\"14.00\" fill=\"#000000\">class = 1</text>\n</g>\n<!-- 4&#45;&gt;5 -->\n<g id=\"edge5\" class=\"edge\">\n<title>4&#45;&gt;5</title>\n<path fill=\"none\" stroke=\"#000000\" d=\"M167.1159,-341.8796C161.202,-330.8835 154.8051,-318.9893 148.842,-307.9015\"/>\n<polygon fill=\"#000000\" stroke=\"#000000\" points=\"151.7742,-305.9642 143.9551,-298.8149 145.6092,-309.2799 151.7742,-305.9642\"/>\n</g>\n<!-- 6 -->\n<g id=\"node7\" class=\"node\">\n<title>6</title>\n<path fill=\"#e6853f\" stroke=\"#000000\" d=\"M303.5,-306C303.5,-306 205.5,-306 205.5,-306 199.5,-306 193.5,-300 193.5,-294 193.5,-294 193.5,-235 193.5,-235 193.5,-229 199.5,-223 205.5,-223 205.5,-223 303.5,-223 303.5,-223 309.5,-223 315.5,-229 315.5,-235 315.5,-235 315.5,-294 315.5,-294 315.5,-300 309.5,-306 303.5,-306\"/>\n<text text-anchor=\"start\" x=\"201.5\" y=\"-290.8\" font-family=\"Helvetica,sans-Serif\" font-size=\"14.00\" fill=\"#000000\">spread2 ≤ 0.267</text>\n<text text-anchor=\"start\" x=\"216.5\" y=\"-275.8\" font-family=\"Helvetica,sans-Serif\" font-size=\"14.00\" fill=\"#000000\">gini = 0.054</text>\n<text text-anchor=\"start\" x=\"210.5\" y=\"-260.8\" font-family=\"Helvetica,sans-Serif\" font-size=\"14.00\" fill=\"#000000\">samples = 36</text>\n<text text-anchor=\"start\" x=\"209\" y=\"-245.8\" font-family=\"Helvetica,sans-Serif\" font-size=\"14.00\" fill=\"#000000\">value = [35, 1]</text>\n<text text-anchor=\"start\" x=\"225.5\" y=\"-230.8\" font-family=\"Helvetica,sans-Serif\" font-size=\"14.00\" fill=\"#000000\">class = 0</text>\n</g>\n<!-- 4&#45;&gt;6 -->\n<g id=\"edge6\" class=\"edge\">\n<title>4&#45;&gt;6</title>\n<path fill=\"none\" stroke=\"#000000\" d=\"M212.2338,-341.8796C216.9565,-333.2335 221.9824,-324.0322 226.859,-315.1042\"/>\n<polygon fill=\"#000000\" stroke=\"#000000\" points=\"229.947,-316.752 231.6691,-306.2981 223.8037,-313.3964 229.947,-316.752\"/>\n</g>\n<!-- 7 -->\n<g id=\"node8\" class=\"node\">\n<title>7</title>\n<path fill=\"#e58139\" stroke=\"#000000\" d=\"M216,-179.5C216,-179.5 133,-179.5 133,-179.5 127,-179.5 121,-173.5 121,-167.5 121,-167.5 121,-123.5 121,-123.5 121,-117.5 127,-111.5 133,-111.5 133,-111.5 216,-111.5 216,-111.5 222,-111.5 228,-117.5 228,-123.5 228,-123.5 228,-167.5 228,-167.5 228,-173.5 222,-179.5 216,-179.5\"/>\n<text text-anchor=\"start\" x=\"145\" y=\"-164.3\" font-family=\"Helvetica,sans-Serif\" font-size=\"14.00\" fill=\"#000000\">gini = 0.0</text>\n<text text-anchor=\"start\" x=\"130.5\" y=\"-149.3\" font-family=\"Helvetica,sans-Serif\" font-size=\"14.00\" fill=\"#000000\">samples = 34</text>\n<text text-anchor=\"start\" x=\"129\" y=\"-134.3\" font-family=\"Helvetica,sans-Serif\" font-size=\"14.00\" fill=\"#000000\">value = [34, 0]</text>\n<text text-anchor=\"start\" x=\"145.5\" y=\"-119.3\" font-family=\"Helvetica,sans-Serif\" font-size=\"14.00\" fill=\"#000000\">class = 0</text>\n</g>\n<!-- 6&#45;&gt;7 -->\n<g id=\"edge7\" class=\"edge\">\n<title>6&#45;&gt;7</title>\n<path fill=\"none\" stroke=\"#000000\" d=\"M226.5199,-222.8796C218.9797,-211.6636 210.8113,-199.5131 203.2309,-188.2372\"/>\n<polygon fill=\"#000000\" stroke=\"#000000\" points=\"206.0527,-186.1612 197.5689,-179.8149 200.2434,-190.0667 206.0527,-186.1612\"/>\n</g>\n<!-- 8 -->\n<g id=\"node9\" class=\"node\">\n<title>8</title>\n<path fill=\"#ffffff\" stroke=\"#000000\" d=\"M412.5,-187C412.5,-187 258.5,-187 258.5,-187 252.5,-187 246.5,-181 246.5,-175 246.5,-175 246.5,-116 246.5,-116 246.5,-110 252.5,-104 258.5,-104 258.5,-104 412.5,-104 412.5,-104 418.5,-104 424.5,-110 424.5,-116 424.5,-116 424.5,-175 424.5,-175 424.5,-181 418.5,-187 412.5,-187\"/>\n<text text-anchor=\"start\" x=\"254.5\" y=\"-171.8\" font-family=\"Helvetica,sans-Serif\" font-size=\"14.00\" fill=\"#000000\">MDVP:Fhi(Hz) ≤ 168.278</text>\n<text text-anchor=\"start\" x=\"306\" y=\"-156.8\" font-family=\"Helvetica,sans-Serif\" font-size=\"14.00\" fill=\"#000000\">gini = 0.5</text>\n<text text-anchor=\"start\" x=\"296\" y=\"-141.8\" font-family=\"Helvetica,sans-Serif\" font-size=\"14.00\" fill=\"#000000\">samples = 2</text>\n<text text-anchor=\"start\" x=\"294\" y=\"-126.8\" font-family=\"Helvetica,sans-Serif\" font-size=\"14.00\" fill=\"#000000\">value = [1, 1]</text>\n<text text-anchor=\"start\" x=\"306.5\" y=\"-111.8\" font-family=\"Helvetica,sans-Serif\" font-size=\"14.00\" fill=\"#000000\">class = 0</text>\n</g>\n<!-- 6&#45;&gt;8 -->\n<g id=\"edge8\" class=\"edge\">\n<title>6&#45;&gt;8</title>\n<path fill=\"none\" stroke=\"#000000\" d=\"M282.8299,-222.8796C288.7763,-214.1434 295.1086,-204.8404 301.245,-195.8253\"/>\n<polygon fill=\"#000000\" stroke=\"#000000\" points=\"304.3156,-197.5342 307.0492,-187.2981 298.5289,-193.5953 304.3156,-197.5342\"/>\n</g>\n<!-- 9 -->\n<g id=\"node10\" class=\"node\">\n<title>9</title>\n<path fill=\"#e58139\" stroke=\"#000000\" d=\"M314,-68C314,-68 239,-68 239,-68 233,-68 227,-62 227,-56 227,-56 227,-12 227,-12 227,-6 233,0 239,0 239,0 314,0 314,0 320,0 326,-6 326,-12 326,-12 326,-56 326,-56 326,-62 320,-68 314,-68\"/>\n<text text-anchor=\"start\" x=\"247\" y=\"-52.8\" font-family=\"Helvetica,sans-Serif\" font-size=\"14.00\" fill=\"#000000\">gini = 0.0</text>\n<text text-anchor=\"start\" x=\"237\" y=\"-37.8\" font-family=\"Helvetica,sans-Serif\" font-size=\"14.00\" fill=\"#000000\">samples = 1</text>\n<text text-anchor=\"start\" x=\"235\" y=\"-22.8\" font-family=\"Helvetica,sans-Serif\" font-size=\"14.00\" fill=\"#000000\">value = [1, 0]</text>\n<text text-anchor=\"start\" x=\"247.5\" y=\"-7.8\" font-family=\"Helvetica,sans-Serif\" font-size=\"14.00\" fill=\"#000000\">class = 0</text>\n</g>\n<!-- 8&#45;&gt;9 -->\n<g id=\"edge9\" class=\"edge\">\n<title>8&#45;&gt;9</title>\n<path fill=\"none\" stroke=\"#000000\" d=\"M313.5306,-103.9815C308.9105,-95.2504 304.0264,-86.0202 299.374,-77.2281\"/>\n<polygon fill=\"#000000\" stroke=\"#000000\" points=\"302.4013,-75.4655 294.6306,-68.2637 296.2141,-78.7395 302.4013,-75.4655\"/>\n</g>\n<!-- 10 -->\n<g id=\"node11\" class=\"node\">\n<title>10</title>\n<path fill=\"#399de5\" stroke=\"#000000\" d=\"M431,-68C431,-68 356,-68 356,-68 350,-68 344,-62 344,-56 344,-56 344,-12 344,-12 344,-6 350,0 356,0 356,0 431,0 431,0 437,0 443,-6 443,-12 443,-12 443,-56 443,-56 443,-62 437,-68 431,-68\"/>\n<text text-anchor=\"start\" x=\"364\" y=\"-52.8\" font-family=\"Helvetica,sans-Serif\" font-size=\"14.00\" fill=\"#000000\">gini = 0.0</text>\n<text text-anchor=\"start\" x=\"354\" y=\"-37.8\" font-family=\"Helvetica,sans-Serif\" font-size=\"14.00\" fill=\"#000000\">samples = 1</text>\n<text text-anchor=\"start\" x=\"352\" y=\"-22.8\" font-family=\"Helvetica,sans-Serif\" font-size=\"14.00\" fill=\"#000000\">value = [0, 1]</text>\n<text text-anchor=\"start\" x=\"364.5\" y=\"-7.8\" font-family=\"Helvetica,sans-Serif\" font-size=\"14.00\" fill=\"#000000\">class = 1</text>\n</g>\n<!-- 8&#45;&gt;10 -->\n<g id=\"edge10\" class=\"edge\">\n<title>8&#45;&gt;10</title>\n<path fill=\"none\" stroke=\"#000000\" d=\"M357.0971,-103.9815C361.6388,-95.2504 366.4402,-86.0202 371.0137,-77.2281\"/>\n<polygon fill=\"#000000\" stroke=\"#000000\" points=\"374.1669,-78.7504 375.6767,-68.2637 367.9569,-75.52 374.1669,-78.7504\"/>\n</g>\n<!-- 12 -->\n<g id=\"node13\" class=\"node\">\n<title>12</title>\n<path fill=\"#399de5\" stroke=\"#000000\" d=\"M367,-417.5C367,-417.5 292,-417.5 292,-417.5 286,-417.5 280,-411.5 280,-405.5 280,-405.5 280,-361.5 280,-361.5 280,-355.5 286,-349.5 292,-349.5 292,-349.5 367,-349.5 367,-349.5 373,-349.5 379,-355.5 379,-361.5 379,-361.5 379,-405.5 379,-405.5 379,-411.5 373,-417.5 367,-417.5\"/>\n<text text-anchor=\"start\" x=\"300\" y=\"-402.3\" font-family=\"Helvetica,sans-Serif\" font-size=\"14.00\" fill=\"#000000\">gini = 0.0</text>\n<text text-anchor=\"start\" x=\"290\" y=\"-387.3\" font-family=\"Helvetica,sans-Serif\" font-size=\"14.00\" fill=\"#000000\">samples = 6</text>\n<text text-anchor=\"start\" x=\"288\" y=\"-372.3\" font-family=\"Helvetica,sans-Serif\" font-size=\"14.00\" fill=\"#000000\">value = [0, 6]</text>\n<text text-anchor=\"start\" x=\"300.5\" y=\"-357.3\" font-family=\"Helvetica,sans-Serif\" font-size=\"14.00\" fill=\"#000000\">class = 1</text>\n</g>\n<!-- 11&#45;&gt;12 -->\n<g id=\"edge12\" class=\"edge\">\n<title>11&#45;&gt;12</title>\n<path fill=\"none\" stroke=\"#000000\" d=\"M384.1209,-460.8796C376.2037,-449.6636 367.6269,-437.5131 359.6675,-426.2372\"/>\n<polygon fill=\"#000000\" stroke=\"#000000\" points=\"362.3486,-423.9662 353.7223,-417.8149 356.6298,-428.003 362.3486,-423.9662\"/>\n</g>\n<!-- 13 -->\n<g id=\"node14\" class=\"node\">\n<title>13</title>\n<path fill=\"#e58139\" stroke=\"#000000\" d=\"M484,-417.5C484,-417.5 409,-417.5 409,-417.5 403,-417.5 397,-411.5 397,-405.5 397,-405.5 397,-361.5 397,-361.5 397,-355.5 403,-349.5 409,-349.5 409,-349.5 484,-349.5 484,-349.5 490,-349.5 496,-355.5 496,-361.5 496,-361.5 496,-405.5 496,-405.5 496,-411.5 490,-417.5 484,-417.5\"/>\n<text text-anchor=\"start\" x=\"417\" y=\"-402.3\" font-family=\"Helvetica,sans-Serif\" font-size=\"14.00\" fill=\"#000000\">gini = 0.0</text>\n<text text-anchor=\"start\" x=\"407\" y=\"-387.3\" font-family=\"Helvetica,sans-Serif\" font-size=\"14.00\" fill=\"#000000\">samples = 2</text>\n<text text-anchor=\"start\" x=\"405\" y=\"-372.3\" font-family=\"Helvetica,sans-Serif\" font-size=\"14.00\" fill=\"#000000\">value = [2, 0]</text>\n<text text-anchor=\"start\" x=\"417.5\" y=\"-357.3\" font-family=\"Helvetica,sans-Serif\" font-size=\"14.00\" fill=\"#000000\">class = 0</text>\n</g>\n<!-- 11&#45;&gt;13 -->\n<g id=\"edge13\" class=\"edge\">\n<title>11&#45;&gt;13</title>\n<path fill=\"none\" stroke=\"#000000\" d=\"M425.0418,-460.8796C428.0301,-450.1034 431.2577,-438.4647 434.2795,-427.5677\"/>\n<polygon fill=\"#000000\" stroke=\"#000000\" points=\"437.6845,-428.3866 436.9841,-417.8149 430.939,-426.516 437.6845,-428.3866\"/>\n</g>\n<!-- 15 -->\n<g id=\"node16\" class=\"node\">\n<title>15</title>\n<path fill=\"#f2c09c\" stroke=\"#000000\" d=\"M653,-544C653,-544 532,-544 532,-544 526,-544 520,-538 520,-532 520,-532 520,-473 520,-473 520,-467 526,-461 532,-461 532,-461 653,-461 653,-461 659,-461 665,-467 665,-473 665,-473 665,-532 665,-532 665,-538 659,-544 653,-544\"/>\n<text text-anchor=\"start\" x=\"528\" y=\"-528.8\" font-family=\"Helvetica,sans-Serif\" font-size=\"14.00\" fill=\"#000000\">MDVP:APQ ≤ 0.019</text>\n<text text-anchor=\"start\" x=\"554.5\" y=\"-513.8\" font-family=\"Helvetica,sans-Serif\" font-size=\"14.00\" fill=\"#000000\">gini = 0.444</text>\n<text text-anchor=\"start\" x=\"553\" y=\"-498.8\" font-family=\"Helvetica,sans-Serif\" font-size=\"14.00\" fill=\"#000000\">samples = 3</text>\n<text text-anchor=\"start\" x=\"551\" y=\"-483.8\" font-family=\"Helvetica,sans-Serif\" font-size=\"14.00\" fill=\"#000000\">value = [2, 1]</text>\n<text text-anchor=\"start\" x=\"563.5\" y=\"-468.8\" font-family=\"Helvetica,sans-Serif\" font-size=\"14.00\" fill=\"#000000\">class = 0</text>\n</g>\n<!-- 14&#45;&gt;15 -->\n<g id=\"edge15\" class=\"edge\">\n<title>14&#45;&gt;15</title>\n<path fill=\"none\" stroke=\"#000000\" d=\"M592.5,-579.8796C592.5,-571.6838 592.5,-562.9891 592.5,-554.5013\"/>\n<polygon fill=\"#000000\" stroke=\"#000000\" points=\"596.0001,-554.298 592.5,-544.2981 589.0001,-554.2981 596.0001,-554.298\"/>\n</g>\n<!-- 18 -->\n<g id=\"node19\" class=\"node\">\n<title>18</title>\n<path fill=\"#40a0e6\" stroke=\"#000000\" d=\"M870,-544C870,-544 725,-544 725,-544 719,-544 713,-538 713,-532 713,-532 713,-473 713,-473 713,-467 719,-461 725,-461 725,-461 870,-461 870,-461 876,-461 882,-467 882,-473 882,-473 882,-532 882,-532 882,-538 876,-544 870,-544\"/>\n<text text-anchor=\"start\" x=\"721\" y=\"-528.8\" font-family=\"Helvetica,sans-Serif\" font-size=\"14.00\" fill=\"#000000\">Shimmer:APQ3 ≤ 0.009</text>\n<text text-anchor=\"start\" x=\"759.5\" y=\"-513.8\" font-family=\"Helvetica,sans-Serif\" font-size=\"14.00\" fill=\"#000000\">gini = 0.064</text>\n<text text-anchor=\"start\" x=\"753.5\" y=\"-498.8\" font-family=\"Helvetica,sans-Serif\" font-size=\"14.00\" fill=\"#000000\">samples = 30</text>\n<text text-anchor=\"start\" x=\"752\" y=\"-483.8\" font-family=\"Helvetica,sans-Serif\" font-size=\"14.00\" fill=\"#000000\">value = [1, 29]</text>\n<text text-anchor=\"start\" x=\"768.5\" y=\"-468.8\" font-family=\"Helvetica,sans-Serif\" font-size=\"14.00\" fill=\"#000000\">class = 1</text>\n</g>\n<!-- 14&#45;&gt;18 -->\n<g id=\"edge18\" class=\"edge\">\n<title>14&#45;&gt;18</title>\n<path fill=\"none\" stroke=\"#000000\" d=\"M647.7059,-589.4536C669.0525,-577.0622 693.9043,-562.6361 717.158,-549.1375\"/>\n<polygon fill=\"#000000\" stroke=\"#000000\" points=\"719.09,-552.063 725.9814,-544.0157 715.5758,-546.0091 719.09,-552.063\"/>\n</g>\n<!-- 16 -->\n<g id=\"node17\" class=\"node\">\n<title>16</title>\n<path fill=\"#399de5\" stroke=\"#000000\" d=\"M601,-417.5C601,-417.5 526,-417.5 526,-417.5 520,-417.5 514,-411.5 514,-405.5 514,-405.5 514,-361.5 514,-361.5 514,-355.5 520,-349.5 526,-349.5 526,-349.5 601,-349.5 601,-349.5 607,-349.5 613,-355.5 613,-361.5 613,-361.5 613,-405.5 613,-405.5 613,-411.5 607,-417.5 601,-417.5\"/>\n<text text-anchor=\"start\" x=\"534\" y=\"-402.3\" font-family=\"Helvetica,sans-Serif\" font-size=\"14.00\" fill=\"#000000\">gini = 0.0</text>\n<text text-anchor=\"start\" x=\"524\" y=\"-387.3\" font-family=\"Helvetica,sans-Serif\" font-size=\"14.00\" fill=\"#000000\">samples = 1</text>\n<text text-anchor=\"start\" x=\"522\" y=\"-372.3\" font-family=\"Helvetica,sans-Serif\" font-size=\"14.00\" fill=\"#000000\">value = [0, 1]</text>\n<text text-anchor=\"start\" x=\"534.5\" y=\"-357.3\" font-family=\"Helvetica,sans-Serif\" font-size=\"14.00\" fill=\"#000000\">class = 1</text>\n</g>\n<!-- 15&#45;&gt;16 -->\n<g id=\"edge16\" class=\"edge\">\n<title>15&#45;&gt;16</title>\n<path fill=\"none\" stroke=\"#000000\" d=\"M582.3572,-460.8796C579.7311,-450.1034 576.8948,-438.4647 574.2392,-427.5677\"/>\n<polygon fill=\"#000000\" stroke=\"#000000\" points=\"577.6307,-426.7019 571.8625,-417.8149 570.8297,-428.3593 577.6307,-426.7019\"/>\n</g>\n<!-- 17 -->\n<g id=\"node18\" class=\"node\">\n<title>17</title>\n<path fill=\"#e58139\" stroke=\"#000000\" d=\"M718,-417.5C718,-417.5 643,-417.5 643,-417.5 637,-417.5 631,-411.5 631,-405.5 631,-405.5 631,-361.5 631,-361.5 631,-355.5 637,-349.5 643,-349.5 643,-349.5 718,-349.5 718,-349.5 724,-349.5 730,-355.5 730,-361.5 730,-361.5 730,-405.5 730,-405.5 730,-411.5 724,-417.5 718,-417.5\"/>\n<text text-anchor=\"start\" x=\"651\" y=\"-402.3\" font-family=\"Helvetica,sans-Serif\" font-size=\"14.00\" fill=\"#000000\">gini = 0.0</text>\n<text text-anchor=\"start\" x=\"641\" y=\"-387.3\" font-family=\"Helvetica,sans-Serif\" font-size=\"14.00\" fill=\"#000000\">samples = 2</text>\n<text text-anchor=\"start\" x=\"639\" y=\"-372.3\" font-family=\"Helvetica,sans-Serif\" font-size=\"14.00\" fill=\"#000000\">value = [2, 0]</text>\n<text text-anchor=\"start\" x=\"651.5\" y=\"-357.3\" font-family=\"Helvetica,sans-Serif\" font-size=\"14.00\" fill=\"#000000\">class = 0</text>\n</g>\n<!-- 15&#45;&gt;17 -->\n<g id=\"edge17\" class=\"edge\">\n<title>15&#45;&gt;17</title>\n<path fill=\"none\" stroke=\"#000000\" d=\"M623.2781,-460.8796C631.6536,-449.5536 640.7338,-437.2748 649.1411,-425.9058\"/>\n<polygon fill=\"#000000\" stroke=\"#000000\" points=\"651.9925,-427.9364 655.1242,-417.8149 646.3643,-423.7743 651.9925,-427.9364\"/>\n</g>\n<!-- 19 -->\n<g id=\"node20\" class=\"node\">\n<title>19</title>\n<path fill=\"#e58139\" stroke=\"#000000\" d=\"M835,-417.5C835,-417.5 760,-417.5 760,-417.5 754,-417.5 748,-411.5 748,-405.5 748,-405.5 748,-361.5 748,-361.5 748,-355.5 754,-349.5 760,-349.5 760,-349.5 835,-349.5 835,-349.5 841,-349.5 847,-355.5 847,-361.5 847,-361.5 847,-405.5 847,-405.5 847,-411.5 841,-417.5 835,-417.5\"/>\n<text text-anchor=\"start\" x=\"768\" y=\"-402.3\" font-family=\"Helvetica,sans-Serif\" font-size=\"14.00\" fill=\"#000000\">gini = 0.0</text>\n<text text-anchor=\"start\" x=\"758\" y=\"-387.3\" font-family=\"Helvetica,sans-Serif\" font-size=\"14.00\" fill=\"#000000\">samples = 1</text>\n<text text-anchor=\"start\" x=\"756\" y=\"-372.3\" font-family=\"Helvetica,sans-Serif\" font-size=\"14.00\" fill=\"#000000\">value = [1, 0]</text>\n<text text-anchor=\"start\" x=\"768.5\" y=\"-357.3\" font-family=\"Helvetica,sans-Serif\" font-size=\"14.00\" fill=\"#000000\">class = 0</text>\n</g>\n<!-- 18&#45;&gt;19 -->\n<g id=\"edge19\" class=\"edge\">\n<title>18&#45;&gt;19</title>\n<path fill=\"none\" stroke=\"#000000\" d=\"M797.5,-460.8796C797.5,-450.2134 797.5,-438.7021 797.5,-427.9015\"/>\n<polygon fill=\"#000000\" stroke=\"#000000\" points=\"801.0001,-427.8149 797.5,-417.8149 794.0001,-427.815 801.0001,-427.8149\"/>\n</g>\n<!-- 20 -->\n<g id=\"node21\" class=\"node\">\n<title>20</title>\n<path fill=\"#399de5\" stroke=\"#000000\" d=\"M960,-417.5C960,-417.5 877,-417.5 877,-417.5 871,-417.5 865,-411.5 865,-405.5 865,-405.5 865,-361.5 865,-361.5 865,-355.5 871,-349.5 877,-349.5 877,-349.5 960,-349.5 960,-349.5 966,-349.5 972,-355.5 972,-361.5 972,-361.5 972,-405.5 972,-405.5 972,-411.5 966,-417.5 960,-417.5\"/>\n<text text-anchor=\"start\" x=\"889\" y=\"-402.3\" font-family=\"Helvetica,sans-Serif\" font-size=\"14.00\" fill=\"#000000\">gini = 0.0</text>\n<text text-anchor=\"start\" x=\"874.5\" y=\"-387.3\" font-family=\"Helvetica,sans-Serif\" font-size=\"14.00\" fill=\"#000000\">samples = 29</text>\n<text text-anchor=\"start\" x=\"873\" y=\"-372.3\" font-family=\"Helvetica,sans-Serif\" font-size=\"14.00\" fill=\"#000000\">value = [0, 29]</text>\n<text text-anchor=\"start\" x=\"889.5\" y=\"-357.3\" font-family=\"Helvetica,sans-Serif\" font-size=\"14.00\" fill=\"#000000\">class = 1</text>\n</g>\n<!-- 18&#45;&gt;20 -->\n<g id=\"edge20\" class=\"edge\">\n<title>18&#45;&gt;20</title>\n<path fill=\"none\" stroke=\"#000000\" d=\"M839.8199,-460.8796C851.6717,-449.2237 864.5495,-436.5587 876.3891,-424.9148\"/>\n<polygon fill=\"#000000\" stroke=\"#000000\" points=\"878.9327,-427.3223 883.6083,-417.8149 874.0244,-422.3314 878.9327,-427.3223\"/>\n</g>\n</g>\n</svg>\n"
          },
          "metadata": {
            "tags": []
          },
          "execution_count": 447
        }
      ]
    }
  ]
}